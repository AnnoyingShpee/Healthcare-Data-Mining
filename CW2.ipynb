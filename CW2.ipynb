{
 "cells": [
  {
   "cell_type": "markdown",
   "id": "bf102207",
   "metadata": {},
   "source": [
    "# Data Mining Coursework 2\n",
    "## 100276935\n",
    "This Jupyter Notebook contains code that performs the following operations:\n",
    "1. Data Exploration, Visualisation, and Summary\n",
    "2. Data Cleansing and Pre-processing\n",
    "3. Supervised Model Training, Tuning, and Evaluation\n",
    "4. Unsupervised Learning using Clustering Algorithms"
   ]
  },
  {
   "cell_type": "markdown",
   "id": "2ca629e7",
   "metadata": {},
   "source": [
    "## Prior setups\n",
    "Importing the necessary libraries and relevant folder and files."
   ]
  },
  {
   "cell_type": "code",
   "execution_count": 1,
   "id": "9bd4d97f",
   "metadata": {},
   "outputs": [
    {
     "name": "stdout",
     "output_type": "stream",
     "text": [
      "Setup complete.\n"
     ]
    }
   ],
   "source": [
    "import math as m\n",
    "import numpy as np\n",
    "import pandas as pd\n",
    "import seaborn as sns\n",
    "import matplotlib.pyplot as plt\n",
    "import category_encoders as ce\n",
    "%matplotlib inline\n",
    "from numpy import nan\n",
    "from sklearn.model_selection import train_test_split, cross_val_score, ParameterGrid, GridSearchCV\n",
    "from sklearn.pipeline import Pipeline\n",
    "from sklearn.metrics import accuracy_score, balanced_accuracy_score, precision_score, recall_score, f1_score, confusion_matrix, classification_report, silhouette_score\n",
    "from sklearn.feature_selection import SelectKBest, mutual_info_classif\n",
    "from sklearn.base import TransformerMixin\n",
    "from sklearn.impute import SimpleImputer\n",
    "from sklearn.preprocessing import LabelEncoder, StandardScaler, Normalizer, normalize\n",
    "# The types of classifiers to use\n",
    "from sklearn.neighbors import KNeighborsClassifier\n",
    "from sklearn.svm import SVC\n",
    "from sklearn.tree import DecisionTreeClassifier\n",
    "from sklearn.ensemble import RandomForestClassifier\n",
    "from sklearn.linear_model import LogisticRegression\n",
    "# Clustering algorithms\n",
    "from sklearn.cluster import KMeans, AgglomerativeClustering\n",
    "# Sampling techniques to use\n",
    "from imblearn.over_sampling import SMOTENC\n",
    "# Shap for explainable AI\n",
    "import shap\n",
    "\n",
    "print(\"Setup complete.\")\n",
    "\n",
    "data_folder = \"data/\"\n",
    "train_data_file = \"disease_train.csv\"\n",
    "test_data_file = \"disease_test.csv\"\n",
    "prediction_data_file = \"predictedTarget.csv\""
   ]
  },
  {
   "cell_type": "markdown",
   "id": "b7978395",
   "metadata": {},
   "source": [
    "Read the CSV files and store the data into a Pandas DataFrame."
   ]
  },
  {
   "cell_type": "code",
   "execution_count": 2,
   "id": "33b78bbd",
   "metadata": {
    "scrolled": false
   },
   "outputs": [
    {
     "name": "stdout",
     "output_type": "stream",
     "text": [
      "       id  age  gender sick pregnant  test_X1  test_X2  test_X3  test_X4  \\\n",
      "0  PA1001   59    male   no       no      7.8      NaN     89.0     0.85   \n",
      "1  PA1002   48  female   no       no      1.5      2.5    101.0     0.97   \n",
      "2  PA1003   77    male   no       no      7.3      1.2     57.0     1.28   \n",
      "3  PA1004   42  female   no       no      1.2      2.5    106.0     0.98   \n",
      "4  PA1005   38  female   no       no      0.6      1.9     95.0      NaN   \n",
      "\n",
      "   test_X5  ...  tumor disorder medication_A medication_B mental_health  \\\n",
      "0    105.0  ...     no       no           no           no            no   \n",
      "1    104.0  ...     no       no          yes           no            no   \n",
      "2     44.0  ...     no       no           no           no            no   \n",
      "3    108.0  ...     no       no           no           no            no   \n",
      "4      NaN  ...     no       no           no           no            no   \n",
      "\n",
      "  mood_stabiliser surgery treatment_type1 suspect         target  \n",
      "0              no      no              no      no  moderate_risk  \n",
      "1             yes      no              no      no       low_risk  \n",
      "2              no      no              no      no  moderate_risk  \n",
      "3              no      no              no      no       low_risk  \n",
      "4              no      no              no      no       low_risk  \n",
      "\n",
      "[5 rows x 24 columns]\n",
      "       id  age  gender sick pregnant  test_X1  test_X2  test_X3  test_X4  \\\n",
      "0  PA6001   22  female   no       no    0.500      1.7     83.0     0.86   \n",
      "1  PA6002   42    male   no       no    0.060      2.0     79.0     0.81   \n",
      "2  PA6003   42    male   no       no    0.045      2.1    111.0     0.89   \n",
      "3  PA6004   42  female   no       no    1.900      2.0    114.0     1.33   \n",
      "4  PA6005   55    male   no       no    0.570      1.4     75.0     0.72   \n",
      "\n",
      "   test_X5  ...  enlargement tumor disorder medication_A medication_B  \\\n",
      "0     97.0  ...           no    no       no           no           no   \n",
      "1     98.0  ...           no    no       no           no           no   \n",
      "2    125.0  ...           no    no       no           no           no   \n",
      "3     86.0  ...           no    no       no           no           no   \n",
      "4    104.0  ...           no    no       no           no           no   \n",
      "\n",
      "  mental_health mood_stabiliser surgery treatment_type1 suspect  \n",
      "0            no              no      no              no      no  \n",
      "1            no              no      no              no      no  \n",
      "2            no              no      no              no      no  \n",
      "3            no              no      no              no      no  \n",
      "4           yes              no      no              no      no  \n",
      "\n",
      "[5 rows x 23 columns]\n"
     ]
    }
   ],
   "source": [
    "train_data = pd.read_csv(data_folder + train_data_file, delimiter=\",\")\n",
    "test_data = pd.read_csv(data_folder + test_data_file, delimiter=\",\")\n",
    "pred_df = pd.read_csv(data_folder + prediction_data_file, delimiter=\",\")\n",
    "print(train_data.head(5))\n",
    "print(test_data.head(5))"
   ]
  },
  {
   "cell_type": "markdown",
   "id": "2003bcba",
   "metadata": {},
   "source": [
    "## 1. Data Exploration, Visualisation, and Summary\n",
    "As the data mining procedure mainly involves the training data, most of the operations will be solely done on the training data and the test data will follow suit."
   ]
  },
  {
   "cell_type": "markdown",
   "id": "90d46554",
   "metadata": {},
   "source": [
    "### Get column names\n",
    "In the cell below, the names of the categorical and numerical columns are obtained and stored in a list. This method avoids writing them down manually. \n",
    "\n",
    "`train_data` has a `target` column unlike `test_data` which will not be included in the categorical columns list."
   ]
  },
  {
   "cell_type": "code",
   "execution_count": 3,
   "id": "57914d9e",
   "metadata": {
    "scrolled": false
   },
   "outputs": [
    {
     "name": "stdout",
     "output_type": "stream",
     "text": [
      "train_categorical_columns = ['id', 'gender', 'sick', 'pregnant', 'concern_type1', 'concern_type2', 'enlargement', 'tumor', 'disorder', 'medication_A', 'medication_B', 'mental_health', 'mood_stabiliser', 'surgery', 'treatment_type1', 'suspect', 'target']\n",
      "\n",
      "train_numerical_columns = ['age', 'test_X1', 'test_X2', 'test_X3', 'test_X4', 'test_X5', 'test_X6']\n",
      "-----------------------------------------------------------------------------\n",
      "\n",
      "test_categorical_columns = ['id', 'gender', 'sick', 'pregnant', 'concern_type1', 'concern_type2', 'enlargement', 'tumor', 'disorder', 'medication_A', 'medication_B', 'mental_health', 'mood_stabiliser', 'surgery', 'treatment_type1', 'suspect']\n",
      "\n",
      "test_numerical_columns = ['age', 'test_X1', 'test_X2', 'test_X3', 'test_X4', 'test_X5', 'test_X6']\n",
      "-----------------------------------------------------------------------------\n",
      "\n",
      "categorical_features (16) = ['id', 'gender', 'sick', 'pregnant', 'concern_type1', 'concern_type2', 'enlargement', 'tumor', 'disorder', 'medication_A', 'medication_B', 'mental_health', 'mood_stabiliser', 'surgery', 'treatment_type1', 'suspect']\n",
      "\n",
      "numerical_features (7) = ['age', 'test_X1', 'test_X2', 'test_X3', 'test_X4', 'test_X5', 'test_X6']\n",
      "\n"
     ]
    }
   ],
   "source": [
    "print(f\"train_categorical_columns = {list(train_data.select_dtypes(include=['object']).columns)}\\n\")\n",
    "print(f\"train_numerical_columns = {list(train_data.select_dtypes(include=['int64', 'float64']).columns)}\")\n",
    "print(\"-----------------------------------------------------------------------------\\n\")\n",
    "print(f\"test_categorical_columns = {list(test_data.select_dtypes(include=['object']).columns)}\\n\")\n",
    "print(f\"test_numerical_columns = {list(test_data.select_dtypes(include=['int64', 'float64']).columns)}\")\n",
    "print(\"-----------------------------------------------------------------------------\\n\")\n",
    "categorical_features = list(train_data.select_dtypes(include=[\"object\"]).columns)\n",
    "# target is not a feature so remove from the list\n",
    "categorical_features.remove(\"target\")\n",
    "print(f\"categorical_features ({len(categorical_features)}) = {categorical_features}\\n\")\n",
    "numerical_features = list(train_data.select_dtypes(include=[\"int64\", \"float64\"]).columns)\n",
    "print(f\"numerical_features ({len(numerical_features)}) = {numerical_features}\\n\")"
   ]
  },
  {
   "cell_type": "markdown",
   "id": "53e19628",
   "metadata": {},
   "source": [
    "### Data Summary\n",
    "Get a statistical summary of the numerical features."
   ]
  },
  {
   "cell_type": "code",
   "execution_count": 4,
   "id": "5c404623",
   "metadata": {},
   "outputs": [
    {
     "name": "stdout",
     "output_type": "stream",
     "text": [
      "Train data summary statistics: \n",
      "                age      test_X1      test_X2      test_X3      test_X4  \\\n",
      "count   4250.000000  3839.000000  3007.000000  4034.000000  3858.000000   \n",
      "mean      67.374824     7.342463     2.035580   104.919623     0.970846   \n",
      "std     1004.518821    32.657963     0.920404    35.496255     0.162474   \n",
      "min        1.000000     0.005000     0.050000     2.000000     0.250000   \n",
      "25%       37.000000     0.600000     1.600000    87.000000     0.870000   \n",
      "50%       55.000000     1.500000     1.900000   102.000000     0.960000   \n",
      "75%       67.000000     3.000000     2.300000   121.000000     1.060000   \n",
      "max    65526.000000   530.000000    18.000000   430.000000     1.960000   \n",
      "\n",
      "           test_X5     test_X6  \n",
      "count  3863.000000  154.000000  \n",
      "mean    110.090834   23.325974  \n",
      "std      39.837621    5.317032  \n",
      "min       1.400000    8.400000  \n",
      "25%      92.000000   20.000000  \n",
      "50%     107.000000   24.000000  \n",
      "75%     125.000000   27.000000  \n",
      "max     642.000000   45.000000  \n",
      "\n",
      "\n",
      "Test data summary statistics: \n",
      "              age     test_X1     test_X2     test_X3     test_X4     test_X5  \\\n",
      "count  750.000000  674.000000  542.000000  717.000000  678.000000  679.000000   \n",
      "mean    52.956000    6.674659    2.001181  104.772664    0.963451  111.738586   \n",
      "std     18.639921   25.900959    0.768551   35.425431    0.171272   48.448464   \n",
      "min      1.000000    0.005000    0.200000    2.900000    0.190000    2.400000   \n",
      "25%     38.000000    0.442500    1.600000   86.000000    0.870000   94.000000   \n",
      "50%     56.000000    1.400000    1.900000  103.000000    0.960000  109.000000   \n",
      "75%     68.000000    3.100000    2.300000  120.000000    1.050000  125.000000   \n",
      "max     92.000000  393.000000    8.500000  273.000000    2.120000  839.000000   \n",
      "\n",
      "        test_X6  \n",
      "count  25.00000  \n",
      "mean   20.57800  \n",
      "std     9.13049  \n",
      "min     0.15000  \n",
      "25%    16.00000  \n",
      "50%    23.00000  \n",
      "75%    28.00000  \n",
      "max    30.00000  \n"
     ]
    }
   ],
   "source": [
    "print(f\"Train data summary statistics: \\n{train_data.describe()}\")\n",
    "print(\"\\n\")\n",
    "print(f\"Test data summary statistics: \\n{test_data.describe()}\")"
   ]
  },
  {
   "cell_type": "markdown",
   "id": "b0458041",
   "metadata": {},
   "source": [
    "### Check Column Data Types and Missing Values\n",
    "Check the data type of the columns and check how many entries are non-null in the training and test data. 60% of the total entries for each feature have to be non-null in order for a feature to be valid for the train data. 60% of 4250 `train_data` entries is 2550. Looking at the columns, column `test_X6` has less than 2550 entries that are non-null values. Hence, column `text_X6` can be removed from both datasets. "
   ]
  },
  {
   "cell_type": "code",
   "execution_count": 5,
   "id": "2d5410e4",
   "metadata": {},
   "outputs": [
    {
     "name": "stdout",
     "output_type": "stream",
     "text": [
      "<class 'pandas.core.frame.DataFrame'>\n",
      "RangeIndex: 4250 entries, 0 to 4249\n",
      "Data columns (total 24 columns):\n",
      " #   Column           Non-Null Count  Dtype  \n",
      "---  ------           --------------  -----  \n",
      " 0   id               4250 non-null   object \n",
      " 1   age              4250 non-null   int64  \n",
      " 2   gender           4109 non-null   object \n",
      " 3   sick             4250 non-null   object \n",
      " 4   pregnant         4250 non-null   object \n",
      " 5   test_X1          3839 non-null   float64\n",
      " 6   test_X2          3007 non-null   float64\n",
      " 7   test_X3          4034 non-null   float64\n",
      " 8   test_X4          3858 non-null   float64\n",
      " 9   test_X5          3863 non-null   float64\n",
      " 10  test_X6          154 non-null    float64\n",
      " 11  concern_type1    4250 non-null   object \n",
      " 12  concern_type2    4250 non-null   object \n",
      " 13  enlargement      4250 non-null   object \n",
      " 14  tumor            4250 non-null   object \n",
      " 15  disorder         4250 non-null   object \n",
      " 16  medication_A     4250 non-null   object \n",
      " 17  medication_B     4250 non-null   object \n",
      " 18  mental_health    4250 non-null   object \n",
      " 19  mood_stabiliser  4250 non-null   object \n",
      " 20  surgery          4250 non-null   object \n",
      " 21  treatment_type1  4250 non-null   object \n",
      " 22  suspect          4250 non-null   object \n",
      " 23  target           4250 non-null   object \n",
      "dtypes: float64(6), int64(1), object(17)\n",
      "memory usage: 797.0+ KB\n"
     ]
    }
   ],
   "source": [
    "train_data.info()"
   ]
  },
  {
   "cell_type": "code",
   "execution_count": 6,
   "id": "e73262ef",
   "metadata": {},
   "outputs": [
    {
     "name": "stdout",
     "output_type": "stream",
     "text": [
      "<class 'pandas.core.frame.DataFrame'>\n",
      "RangeIndex: 750 entries, 0 to 749\n",
      "Data columns (total 23 columns):\n",
      " #   Column           Non-Null Count  Dtype  \n",
      "---  ------           --------------  -----  \n",
      " 0   id               750 non-null    object \n",
      " 1   age              750 non-null    int64  \n",
      " 2   gender           724 non-null    object \n",
      " 3   sick             750 non-null    object \n",
      " 4   pregnant         750 non-null    object \n",
      " 5   test_X1          674 non-null    float64\n",
      " 6   test_X2          542 non-null    float64\n",
      " 7   test_X3          717 non-null    float64\n",
      " 8   test_X4          678 non-null    float64\n",
      " 9   test_X5          679 non-null    float64\n",
      " 10  test_X6          25 non-null     float64\n",
      " 11  concern_type1    750 non-null    object \n",
      " 12  concern_type2    750 non-null    object \n",
      " 13  enlargement      750 non-null    object \n",
      " 14  tumor            750 non-null    object \n",
      " 15  disorder         750 non-null    object \n",
      " 16  medication_A     750 non-null    object \n",
      " 17  medication_B     750 non-null    object \n",
      " 18  mental_health    750 non-null    object \n",
      " 19  mood_stabiliser  750 non-null    object \n",
      " 20  surgery          750 non-null    object \n",
      " 21  treatment_type1  750 non-null    object \n",
      " 22  suspect          750 non-null    object \n",
      "dtypes: float64(6), int64(1), object(16)\n",
      "memory usage: 134.9+ KB\n"
     ]
    }
   ],
   "source": [
    "test_data.info()"
   ]
  },
  {
   "cell_type": "markdown",
   "id": "23597c92",
   "metadata": {},
   "source": [
    "Count the number of missing data points for each feature. Because `gender` is a categorical feature, the only way to deal with missing values was imputation. `test_X1` to `test_X5` are all numerical columns, allowing the missing values to be imputed in some way."
   ]
  },
  {
   "cell_type": "code",
   "execution_count": 7,
   "id": "48bad20a",
   "metadata": {},
   "outputs": [
    {
     "name": "stdout",
     "output_type": "stream",
     "text": [
      "Train Data: \n",
      "id                    0\n",
      "age                   0\n",
      "gender              141\n",
      "sick                  0\n",
      "pregnant              0\n",
      "test_X1             411\n",
      "test_X2            1243\n",
      "test_X3             216\n",
      "test_X4             392\n",
      "test_X5             387\n",
      "test_X6            4096\n",
      "concern_type1         0\n",
      "concern_type2         0\n",
      "enlargement           0\n",
      "tumor                 0\n",
      "disorder              0\n",
      "medication_A          0\n",
      "medication_B          0\n",
      "mental_health         0\n",
      "mood_stabiliser       0\n",
      "surgery               0\n",
      "treatment_type1       0\n",
      "suspect               0\n",
      "target                0\n",
      "dtype: int64\n",
      "\n",
      "\n",
      "Test Data: \n",
      "id                   0\n",
      "age                  0\n",
      "gender              26\n",
      "sick                 0\n",
      "pregnant             0\n",
      "test_X1             76\n",
      "test_X2            208\n",
      "test_X3             33\n",
      "test_X4             72\n",
      "test_X5             71\n",
      "test_X6            725\n",
      "concern_type1        0\n",
      "concern_type2        0\n",
      "enlargement          0\n",
      "tumor                0\n",
      "disorder             0\n",
      "medication_A         0\n",
      "medication_B         0\n",
      "mental_health        0\n",
      "mood_stabiliser      0\n",
      "surgery              0\n",
      "treatment_type1      0\n",
      "suspect              0\n",
      "dtype: int64\n"
     ]
    }
   ],
   "source": [
    "print(\"Train Data: \")\n",
    "print(train_data.isnull().sum())\n",
    "print(\"\\n\")\n",
    "print(\"Test Data: \")\n",
    "print(test_data.isnull().sum())"
   ]
  },
  {
   "cell_type": "markdown",
   "id": "30c023cd",
   "metadata": {},
   "source": [
    "### Number of unique values\n",
    "The cell below counts the total occurrances for each value in every column. The column `id` has only unique values and column `disorder` is constant for all entries, meaning that both can be safely removed from the dataset. \n",
    "\n",
    "Some columns contains outliers which will need to be preproccessed later like `age` which not only has outrageous outliers. Some columns have highly imbalanced data which will also need to be accounted for."
   ]
  },
  {
   "cell_type": "code",
   "execution_count": 8,
   "id": "1eb68b7e",
   "metadata": {
    "scrolled": true
   },
   "outputs": [
    {
     "name": "stdout",
     "output_type": "stream",
     "text": [
      "PA1001    1\n",
      "PA3839    1\n",
      "PA3825    1\n",
      "PA3826    1\n",
      "PA3827    1\n",
      "         ..\n",
      "PA2423    1\n",
      "PA2424    1\n",
      "PA2425    1\n",
      "PA2426    1\n",
      "PA5250    1\n",
      "Name: id, Length: 4250, dtype: int64 \n",
      "\n",
      "59       100\n",
      "62        97\n",
      "60        94\n",
      "58        93\n",
      "55        89\n",
      "        ... \n",
      "65526      1\n",
      "4          1\n",
      "97         1\n",
      "455        1\n",
      "94         1\n",
      "Name: age, Length: 94, dtype: int64 \n",
      "\n",
      "female    2787\n",
      "male      1322\n",
      "Name: gender, dtype: int64 \n",
      "\n",
      "no     4095\n",
      "yes     155\n",
      "Name: sick, dtype: int64 \n",
      "\n",
      "no     4235\n",
      "yes      15\n",
      "Name: pregnant, dtype: int64 \n",
      "\n",
      "0.100      117\n",
      "1.300      109\n",
      "1.500      106\n",
      "1.100      104\n",
      "1.200      104\n",
      "          ... \n",
      "164.000      1\n",
      "0.255        1\n",
      "170.000      1\n",
      "56.000       1\n",
      "165.000      1\n",
      "Name: test_X1, Length: 334, dtype: int64 \n",
      "\n",
      "1.8    237\n",
      "2.0    231\n",
      "1.9    223\n",
      "1.7    209\n",
      "2.1    191\n",
      "      ... \n",
      "5.6      1\n",
      "6.4      1\n",
      "5.4      1\n",
      "4.8      1\n",
      "6.9      1\n",
      "Name: test_X2, Length: 77, dtype: int64 \n",
      "\n",
      "101.0    91\n",
      "98.0     81\n",
      "95.0     78\n",
      "93.0     78\n",
      "90.0     71\n",
      "         ..\n",
      "359.0     1\n",
      "18.0      1\n",
      "27.0      1\n",
      "218.0     1\n",
      "182.0     1\n",
      "Name: test_X3, Length: 245, dtype: int64 \n",
      "\n",
      "0.96    124\n",
      "0.90    119\n",
      "1.01    111\n",
      "0.99    110\n",
      "0.91    110\n",
      "       ... \n",
      "1.62      1\n",
      "1.57      1\n",
      "0.46      1\n",
      "0.25      1\n",
      "1.71      1\n",
      "Name: test_X4, Length: 124, dtype: int64 \n",
      "\n",
      "100.0    78\n",
      "107.0    75\n",
      "114.0    75\n",
      "98.0     74\n",
      "106.0    71\n",
      "         ..\n",
      "25.0      1\n",
      "178.0     1\n",
      "221.0     1\n",
      "243.0     1\n",
      "4.5       1\n",
      "Name: test_X5, Length: 263, dtype: int64 \n",
      "\n",
      "24.000000    16\n",
      "20.000000    15\n",
      "27.000000    14\n",
      "28.000000    11\n",
      "22.000000    10\n",
      "30.000000    10\n",
      "21.000000     9\n",
      "29.000000     9\n",
      "23.000000     9\n",
      "18.000000     8\n",
      "19.000000     8\n",
      "25.000000     7\n",
      "26.000000     7\n",
      "17.000000     4\n",
      "16.000000     4\n",
      "11.000000     2\n",
      "14.000000     2\n",
      "15.000000     2\n",
      "8.400000      1\n",
      "36.000000     1\n",
      "8.799999      1\n",
      "32.000000     1\n",
      "12.000000     1\n",
      "45.000000     1\n",
      "38.000000     1\n",
      "Name: test_X6, dtype: int64 \n",
      "\n",
      "no     4183\n",
      "yes      67\n",
      "Name: concern_type1, dtype: int64 \n",
      "\n",
      "no     3905\n",
      "yes     345\n",
      "Name: concern_type2, dtype: int64 \n",
      "\n",
      "no     4215\n",
      "yes      35\n",
      "Name: enlargement, dtype: int64 \n",
      "\n",
      "no     4139\n",
      "yes     111\n",
      "Name: tumor, dtype: int64 \n",
      "\n",
      "no    4250\n",
      "Name: disorder, dtype: int64 \n",
      "\n",
      "no     3760\n",
      "yes     490\n",
      "Name: medication_A, dtype: int64 \n",
      "\n",
      "no     4196\n",
      "yes      54\n",
      "Name: medication_B, dtype: int64 \n",
      "\n",
      "no     4056\n",
      "yes     194\n",
      "Name: mental_health, dtype: int64 \n",
      "\n",
      "no     4205\n",
      "yes      45\n",
      "Name: mood_stabiliser, dtype: int64 \n",
      "\n",
      "no     4188\n",
      "yes      62\n",
      "Name: surgery, dtype: int64 \n",
      "\n",
      "no     4169\n",
      "yes      81\n",
      "Name: treatment_type1, dtype: int64 \n",
      "\n",
      "no     3951\n",
      "yes     299\n",
      "Name: suspect, dtype: int64 \n",
      "\n",
      "low_risk         3612\n",
      "moderate_risk     489\n",
      "high_risk         149\n",
      "Name: target, dtype: int64 \n",
      "\n"
     ]
    }
   ],
   "source": [
    "for column in train_data.columns:\n",
    "    print(train_data[column].value_counts(), \"\\n\")"
   ]
  },
  {
   "cell_type": "markdown",
   "id": "4bcac932",
   "metadata": {},
   "source": [
    "### Target Label Distribution Visualisation\n",
    "The cell below shows the distribution of the train dataset which clearly shows that it is imbalanced. Some prepocessing will need to be done in order to make the data more balanced later."
   ]
  },
  {
   "cell_type": "code",
   "execution_count": 9,
   "id": "76604766",
   "metadata": {},
   "outputs": [
    {
     "data": {
      "image/png": "[encoded data removed]",
      "text/plain": [
       "<Figure size 432x288 with 1 Axes>"
      ]
     },
     "metadata": {
      "needs_background": "light"
     },
     "output_type": "display_data"
    }
   ],
   "source": [
    "sns.countplot(x='target', data=train_data)\n",
    "plt.title(\"Distribution of train data target\")\n",
    "#Save the plot to the working directory\n",
    "plt.savefig(data_folder + 'target_distribution.jpg')"
   ]
  },
  {
   "cell_type": "markdown",
   "id": "f50ce135",
   "metadata": {},
   "source": [
    "### Categorical Column Distribution Visualisation\n",
    "The cell below creates plots showing distribution for almost every column against `target` except `id`, `disorder`, and `target` as they only have unique values, constant values, and same values respectively."
   ]
  },
  {
   "cell_type": "code",
   "execution_count": 10,
   "id": "bdcc06c0",
   "metadata": {
    "scrolled": true
   },
   "outputs": [
    {
     "data": {
      "image/png": "[encoded data removed]",
      "text/plain": [
       "<Figure size 720x288 with 1 Axes>"
      ]
     },
     "metadata": {
      "needs_background": "light"
     },
     "output_type": "display_data"
    },
    {
     "data": {
      "image/png": "[encoded data removed]",
      "text/plain": [
       "<Figure size 720x288 with 1 Axes>"
      ]
     },
     "metadata": {
      "needs_background": "light"
     },
     "output_type": "display_data"
    },
    {
     "data": {
      "image/png": "[encoded data removed]",
      "text/plain": [
       "<Figure size 720x288 with 1 Axes>"
      ]
     },
     "metadata": {
      "needs_background": "light"
     },
     "output_type": "display_data"
    },
    {
     "data": {
      "image/png": "[encoded data removed]",
      "text/plain": [
       "<Figure size 720x288 with 1 Axes>"
      ]
     },
     "metadata": {
      "needs_background": "light"
     },
     "output_type": "display_data"
    },
    {
     "data": {
      "image/png": "[encoded data removed]",
      "text/plain": [
       "<Figure size 720x288 with 1 Axes>"
      ]
     },
     "metadata": {
      "needs_background": "light"
     },
     "output_type": "display_data"
    },
    {
     "data": {
      "image/png": "[encoded data removed]",
      "text/plain": [
       "<Figure size 720x288 with 1 Axes>"
      ]
     },
     "metadata": {
      "needs_background": "light"
     },
     "output_type": "display_data"
    },
    {
     "data": {
      "image/png": "[encoded data removed]",
      "text/plain": [
       "<Figure size 720x288 with 1 Axes>"
      ]
     },
     "metadata": {
      "needs_background": "light"
     },
     "output_type": "display_data"
    },
    {
     "data": {
      "image/png": "[encoded data removed]",
      "text/plain": [
       "<Figure size 720x288 with 1 Axes>"
      ]
     },
     "metadata": {
      "needs_background": "light"
     },
     "output_type": "display_data"
    },
    {
     "data": {
      "image/png": "[encoded data removed]",
      "text/plain": [
       "<Figure size 720x288 with 1 Axes>"
      ]
     },
     "metadata": {
      "needs_background": "light"
     },
     "output_type": "display_data"
    },
    {
     "data": {
      "image/png": "[encoded data removed]",
      "text/plain": [
       "<Figure size 720x288 with 1 Axes>"
      ]
     },
     "metadata": {
      "needs_background": "light"
     },
     "output_type": "display_data"
    },
    {
     "data": {
      "image/png": "[encoded data removed]",
      "text/plain": [
       "<Figure size 720x288 with 1 Axes>"
      ]
     },
     "metadata": {
      "needs_background": "light"
     },
     "output_type": "display_data"
    },
    {
     "data": {
      "image/png": "[encoded data removed]",
      "text/plain": [
       "<Figure size 720x288 with 1 Axes>"
      ]
     },
     "metadata": {
      "needs_background": "light"
     },
     "output_type": "display_data"
    },
    {
     "data": {
      "image/png": "[encoded data removed]",
      "text/plain": [
       "<Figure size 720x288 with 1 Axes>"
      ]
     },
     "metadata": {
      "needs_background": "light"
     },
     "output_type": "display_data"
    },
    {
     "data": {
      "image/png": "[encoded data removed]",
      "text/plain": [
       "<Figure size 720x288 with 1 Axes>"
      ]
     },
     "metadata": {
      "needs_background": "light"
     },
     "output_type": "display_data"
    }
   ],
   "source": [
    "for column in categorical_features:\n",
    "    if column in [\"id\", \"disorder\", \"target\"]:\n",
    "        continue\n",
    "    #make sure that plot only takes the two plots below by using the following command\n",
    "    plt.figure(figsize=(10,4))\n",
    "    plt.xticks(rotation=90) \n",
    "    sns.countplot(x=column, hue='target', palette=\"coolwarm\", data=train_data)\n",
    "    #include a legend\n",
    "    plt.legend()\n",
    "    #include a dynamic title\n",
    "    plt.title(\"Distribution of \" +column)\n",
    "    #Save the plot to the working directory\n",
    "    plt.savefig(data_folder+column+'.jpg')"
   ]
  },
  {
   "cell_type": "markdown",
   "id": "55cb98ed",
   "metadata": {},
   "source": [
    "### Numerical Column Distribution Visualisation\n",
    "Boxplots can be plotted using a categorical column against all numerical columns by changing the value of the `cat` variable. The categorical columns that can be used are `gender`, `sick`, `pregnant`, `concern_type1`, `concern_type2`, `enlargement`, `tumor`, `medication_A`, `medication_B`, `mental_health`, `mood_stabiliser`, `surgery`, `treatment_type1`, `suspect`.\n",
    "\n",
    "The `gender` feature is used here as the plots above show `gender` having a more visible variation and there are clearly a fair amount of outliers for all the numerical features which will need to be handled during preprocessing. Especially `age` where one outlier causes the boxplot to be unreadable."
   ]
  },
  {
   "cell_type": "code",
   "execution_count": 11,
   "id": "7c89e9f0",
   "metadata": {
    "scrolled": false
   },
   "outputs": [
    {
     "data": {
      "image/png": "[encoded data removed]",
      "text/plain": [
       "<Figure size 467.375x360 with 1 Axes>"
      ]
     },
     "metadata": {
      "needs_background": "light"
     },
     "output_type": "display_data"
    },
    {
     "data": {
      "image/png": "[encoded data removed]",
      "text/plain": [
       "<Figure size 467.375x360 with 1 Axes>"
      ]
     },
     "metadata": {
      "needs_background": "light"
     },
     "output_type": "display_data"
    },
    {
     "data": {
      "image/png": "[encoded data removed]",
      "text/plain": [
       "<Figure size 467.375x360 with 1 Axes>"
      ]
     },
     "metadata": {
      "needs_background": "light"
     },
     "output_type": "display_data"
    },
    {
     "data": {
      "image/png": "[encoded data removed]",
      "text/plain": [
       "<Figure size 467.375x360 with 1 Axes>"
      ]
     },
     "metadata": {
      "needs_background": "light"
     },
     "output_type": "display_data"
    },
    {
     "data": {
      "image/png": "[encoded data removed]",
      "text/plain": [
       "<Figure size 467.375x360 with 1 Axes>"
      ]
     },
     "metadata": {
      "needs_background": "light"
     },
     "output_type": "display_data"
    },
    {
     "data": {
      "image/png": "[encoded data removed]",
      "text/plain": [
       "<Figure size 467.375x360 with 1 Axes>"
      ]
     },
     "metadata": {
      "needs_background": "light"
     },
     "output_type": "display_data"
    }
   ],
   "source": [
    "cat = \"gender\"\n",
    "for num in numerical_features:\n",
    "    if num == \"test_X6\" or cat in [\"id\", \"disorder\", \"target\"]:\n",
    "        continue\n",
    "    sns.catplot(x=cat, y=num, hue=\"target\",  kind=\"box\", data=train_data)\n",
    "    #include a dynamic title\n",
    "    plt.title(\"Boxplot of \" + cat + \" against \" + num)\n",
    "    #Save the plot to the working directory\n",
    "    plt.savefig(data_folder + cat + \"_vs_\"+ num +'.jpg')"
   ]
  },
  {
   "cell_type": "markdown",
   "id": "6a3cffe7",
   "metadata": {},
   "source": [
    "Check for the outrageous `age` outliers in the train and test data. Let's assume 100 is the maximum age."
   ]
  },
  {
   "cell_type": "code",
   "execution_count": 12,
   "id": "777a4150",
   "metadata": {},
   "outputs": [
    {
     "name": "stdout",
     "output_type": "stream",
     "text": [
      "Train data:\n",
      "          id    age\n",
      "2459  PA3460  65526\n",
      "3477  PA4478    455\n",
      "\n",
      "Test Data:\n",
      "Empty DataFrame\n",
      "Columns: [id, age]\n",
      "Index: []\n"
     ]
    },
    {
     "name": "stderr",
     "output_type": "stream",
     "text": [
      "C:\\Users\\User\\AppData\\Local\\Temp\\ipykernel_20304\\1513058195.py:4: UserWarning: Boolean Series key will be reindexed to match DataFrame index.\n",
      "  print(test_data[[\"id\", \"age\"]][train_data[\"age\"] > 100])\n"
     ]
    }
   ],
   "source": [
    "print(\"Train data:\")\n",
    "print(train_data[[\"id\", \"age\"]][train_data[\"age\"] > 100])\n",
    "print(\"\\nTest Data:\")\n",
    "print(test_data[[\"id\", \"age\"]][train_data[\"age\"] > 100])"
   ]
  },
  {
   "cell_type": "markdown",
   "id": "0fe82c21",
   "metadata": {},
   "source": [
    "### Correlation Visualisation Heatmap\n",
    "The cell below visualises a correlation matrix heatmap of the numerical values and the `target` column that has been encoded. Based on the heatmap, there does not seem seem to be any correlation between medical diagnosis (`target`) and `age` or `test_X6`. However, due to the 2 huge outliers in the `age` feature, it is possible that the observations are affecting the correlation."
   ]
  },
  {
   "cell_type": "code",
   "execution_count": 13,
   "id": "0da14a6c",
   "metadata": {
    "scrolled": false
   },
   "outputs": [
    {
     "data": {
      "image/png": "[encoded data removed]",
      "text/plain": [
       "<Figure size 1008x720 with 2 Axes>"
      ]
     },
     "metadata": {
      "needs_background": "light"
     },
     "output_type": "display_data"
    }
   ],
   "source": [
    "data = train_data[numerical_features + [\"target\"]]\n",
    "encoder = ce.OrdinalEncoder(cols=\"target\", handle_missing='return_nan', return_df=True)\n",
    "data = encoder.fit_transform(data)\n",
    "# Create a heatmap of the correlation matrix\n",
    "plt.figure(figsize=(14, 10))\n",
    "correlation_matrix = data.corr()\n",
    "a = sns.heatmap(correlation_matrix, annot=True, fmt=\".1f\", linewidths=.7)\n",
    "\n",
    "# Set feature names for both axes\n",
    "a.set_xticklabels(correlation_matrix.columns, rotation=90)\n",
    "a.set_yticklabels(correlation_matrix.columns)\n",
    "\n",
    "plt.title('Correlation Matrix Heatmap of Numerical Features and Target')\n",
    "plt.savefig(data_folder + \"num_and_target_corr_mat_heatmap.jpg\")\n",
    "plt.show()"
   ]
  },
  {
   "cell_type": "markdown",
   "id": "0ee5d2c8",
   "metadata": {},
   "source": [
    "After removing the observations with the extreme outliers in `age` and creating the heat map again, the correlation only has a small change. This means that age will not be a useful feature for the model."
   ]
  },
  {
   "cell_type": "code",
   "execution_count": 14,
   "id": "7a59d20b",
   "metadata": {},
   "outputs": [
    {
     "data": {
      "image/png": "[encoded data removed]",
      "text/plain": [
       "<Figure size 1008x720 with 2 Axes>"
      ]
     },
     "metadata": {
      "needs_background": "light"
     },
     "output_type": "display_data"
    }
   ],
   "source": [
    "temp = train_data[train_data[\"age\"] <= 100]\n",
    "data = temp[numerical_features + [\"target\"]]\n",
    "encoder = ce.OrdinalEncoder(cols=\"target\", handle_missing='return_nan', return_df=True)\n",
    "data = encoder.fit_transform(data)\n",
    "# Create a heatmap of the correlation matrix\n",
    "plt.figure(figsize=(14, 10))\n",
    "correlation_matrix = data.corr()\n",
    "a = sns.heatmap(correlation_matrix, annot=True, fmt=\".1f\", linewidths=.7)\n",
    "\n",
    "# Set feature names for both axes\n",
    "a.set_xticklabels(correlation_matrix.columns, rotation=90)\n",
    "a.set_yticklabels(correlation_matrix.columns)\n",
    "\n",
    "plt.title('Correlation Matrix Heatmap of Numerical Features and Target')\n",
    "plt.savefig(data_folder + \"num_and_target_corr_mat_heatmap_no_age_outlier.jpg\")\n",
    "plt.show()"
   ]
  },
  {
   "cell_type": "markdown",
   "id": "c43e8315",
   "metadata": {},
   "source": [
    "After removing the outrageous outliers from `age`, the boxplot has a better visual. "
   ]
  },
  {
   "cell_type": "code",
   "execution_count": 15,
   "id": "209c9a42",
   "metadata": {},
   "outputs": [
    {
     "data": {
      "image/png": "[encoded data removed]",
      "text/plain": [
       "<Figure size 467.375x360 with 1 Axes>"
      ]
     },
     "metadata": {
      "needs_background": "light"
     },
     "output_type": "display_data"
    }
   ],
   "source": [
    "sns.catplot(x=\"gender\", y=\"age\", hue=\"target\",  kind=\"box\", data=temp)\n",
    "#include a dynamic title\n",
    "plt.title(\"Boxplot of \" + \"gender\" + \" against \" + \"age\")\n",
    "#Save the plot to the working directory\n",
    "plt.savefig(data_folder + 'gender_vs_age_no_outlier.jpg')"
   ]
  },
  {
   "cell_type": "markdown",
   "id": "4ac0f0c3",
   "metadata": {},
   "source": [
    "## 2. Data Cleansing and Pre-processing"
   ]
  },
  {
   "cell_type": "markdown",
   "id": "ad41ee1e",
   "metadata": {},
   "source": [
    "### Remove the unnecessary columns\n",
    "The first thing to do is removing the features that are considered to not have an effect on the prediction. The features to drop are:\n",
    "1. `id` : All values are unique\n",
    "2. `age`: Little to no correlation to target\n",
    "3. `text_X6` : Too many missing values\n",
    "4. `disorder` : All values are constant \n",
    "5. `suspect` : Speculation by patients and does not relate to physical or mental state, it is safe to assume that it is a feature not worth exploring. "
   ]
  },
  {
   "cell_type": "code",
   "execution_count": 16,
   "id": "a556c626",
   "metadata": {},
   "outputs": [],
   "source": [
    "# Remove columns from train and test data\n",
    "train_data.drop(columns=[\"id\", \"age\", \"test_X6\", \"disorder\", \"suspect\"], inplace=True)\n",
    "test_data.drop(columns=[\"id\", \"age\", \"test_X6\", \"disorder\", \"suspect\"], inplace=True)\n",
    "# Remove the column names from the list as well\n",
    "categorical_features = [item for item in categorical_features if item not in [\"id\", \"age\", \"disorder\", \"suspect\"]]\n",
    "numerical_features = [item for item in numerical_features if item not in [\"age\", \"test_X6\"]]"
   ]
  },
  {
   "cell_type": "code",
   "execution_count": 17,
   "id": "88f1573c",
   "metadata": {},
   "outputs": [
    {
     "name": "stdout",
     "output_type": "stream",
     "text": [
      "categorical_features = ['gender', 'sick', 'pregnant', 'concern_type1', 'concern_type2', 'enlargement', 'tumor', 'medication_A', 'medication_B', 'mental_health', 'mood_stabiliser', 'surgery', 'treatment_type1']\n",
      "numerical_features = ['test_X1', 'test_X2', 'test_X3', 'test_X4', 'test_X5']\n",
      "train_data: \n",
      "Index(['gender', 'sick', 'pregnant', 'test_X1', 'test_X2', 'test_X3',\n",
      "       'test_X4', 'test_X5', 'concern_type1', 'concern_type2', 'enlargement',\n",
      "       'tumor', 'medication_A', 'medication_B', 'mental_health',\n",
      "       'mood_stabiliser', 'surgery', 'treatment_type1', 'target'],\n",
      "      dtype='object')\n",
      "test_data: \n",
      "Index(['gender', 'sick', 'pregnant', 'test_X1', 'test_X2', 'test_X3',\n",
      "       'test_X4', 'test_X5', 'concern_type1', 'concern_type2', 'enlargement',\n",
      "       'tumor', 'medication_A', 'medication_B', 'mental_health',\n",
      "       'mood_stabiliser', 'surgery', 'treatment_type1'],\n",
      "      dtype='object')\n"
     ]
    }
   ],
   "source": [
    "print(f\"categorical_features = {categorical_features}\")\n",
    "print(f\"numerical_features = {numerical_features}\")\n",
    "# Check if columns have been removed from dataframe\n",
    "print(\"train_data: \")\n",
    "print(train_data.columns)\n",
    "print(\"test_data: \")\n",
    "print(test_data.columns)"
   ]
  },
  {
   "cell_type": "markdown",
   "id": "b2f1671b",
   "metadata": {},
   "source": [
    "### Get Target Labels\n",
    "Before `train_data` can be split, the target labels of `train_data` have to be extracted and the `target` column will be dropped."
   ]
  },
  {
   "cell_type": "code",
   "execution_count": 18,
   "id": "70cb15d2",
   "metadata": {},
   "outputs": [
    {
     "name": "stdout",
     "output_type": "stream",
     "text": [
      "0       moderate_risk\n",
      "1            low_risk\n",
      "2       moderate_risk\n",
      "3            low_risk\n",
      "4            low_risk\n",
      "            ...      \n",
      "4245         low_risk\n",
      "4246    moderate_risk\n",
      "4247         low_risk\n",
      "4248         low_risk\n",
      "4249         low_risk\n",
      "Name: target, Length: 4250, dtype: object\n"
     ]
    }
   ],
   "source": [
    "train_labels = train_data[\"target\"]\n",
    "train_data.drop(columns=\"target\", inplace=True)\n",
    "print(train_labels)"
   ]
  },
  {
   "cell_type": "markdown",
   "id": "65a14174",
   "metadata": {},
   "source": [
    "### Splitting the Data\n",
    "Once the labels have been separated from the dataset, the next thing to do is to split the train data into train and validation sets. The random state is used for reproducibility and `train_test_split` will be stratified so that proportion of target labels will be the same as the original dataset. "
   ]
  },
  {
   "cell_type": "code",
   "execution_count": 19,
   "id": "654801be",
   "metadata": {
    "scrolled": true
   },
   "outputs": [
    {
     "name": "stdout",
     "output_type": "stream",
     "text": [
      "(array(['high_risk', 'low_risk', 'moderate_risk'], dtype=object), array([ 104, 2529,  342], dtype=int64))\n",
      "(array(['high_risk', 'low_risk', 'moderate_risk'], dtype=object), array([  45, 1083,  147], dtype=int64))\n"
     ]
    }
   ],
   "source": [
    "# Assuming 'X' is feature matrix and 'y' is target variable\n",
    "X_train, X_valid, y_train, y_valid = train_test_split(train_data, train_labels, test_size=0.3, \n",
    "                                                      random_state=35, stratify=train_labels)\n",
    "print(np.unique(y_train, return_counts=True))\n",
    "print(np.unique(y_valid, return_counts=True))"
   ]
  },
  {
   "cell_type": "markdown",
   "id": "6c4e3a2c",
   "metadata": {},
   "source": [
    "### Data Imputation\n",
    "The `DataFrameImputer` class is used to impute both the categorical and numerical columns. Since there are both categorical and numerical features containing missing values, both types of features will need to be handled separately. \n",
    "\n",
    "### Categorical imputing \n",
    "There is a choice between imputing and removing the missing values. As test data contains missing categorical values and all its samples need to have a predicted label, removing rows will not be used.\n",
    "\n",
    "### Numerical Imputing\n",
    "`test_X1` to `test_X5` all have missing values. They will be imputed using mean or median of the other values.\n",
    "`num_impute_type` variable determines how the missing values are handled.\n",
    "\n",
    "0 = Missing values are imputed using mean of each column.\n",
    "\n",
    "1 = Missing values are imputed using median of each column."
   ]
  },
  {
   "cell_type": "code",
   "execution_count": 20,
   "id": "0e280c22",
   "metadata": {},
   "outputs": [],
   "source": [
    "class DataFrameImputer(TransformerMixin):\n",
    "\n",
    "    def __init__(self, num_impute_type=0):\n",
    "        \"\"\"Impute missing values.\n",
    "\n",
    "        Columns of dtype object are imputed with most frequent value\n",
    "\n",
    "        Columns of other types are imputed with mean of column, or median of column. [0, 1]\n",
    "\n",
    "        \"\"\"\n",
    "        self.fill = None\n",
    "        self.num_impute = num_impute_type\n",
    "            \n",
    "        \n",
    "    def fit(self, X):\n",
    "        # Create a temporary new X dataframe\n",
    "        new_X = X.copy()\n",
    "        # Stores columns with the same data type\n",
    "        cols = []\n",
    "        # Value to be imputed in each column following cols\n",
    "        impute_vals = []\n",
    "        # Go through each column and find those that are categorical\n",
    "        for col in new_X:\n",
    "            if new_X[col].dtype == np.dtype('O'):\n",
    "                # Append the name of the categorical column into cols\n",
    "                cols.append(col)\n",
    "                impute_vals.append(new_X[col].value_counts().index[0])\n",
    "        # Save the imputation values into a Series\n",
    "        self.fill = pd.Series(impute_vals, index=cols)\n",
    "        \n",
    "        # Empty the lists for numerical now\n",
    "        cols = []\n",
    "        impute_vals = []\n",
    "        \n",
    "        for col in new_X:\n",
    "            if new_X[col].dtype != np.dtype('O'):\n",
    "                cols.append(col)\n",
    "                if self.num_impute: \n",
    "                    impute_vals.append(new_X[col].median())\n",
    "                else: \n",
    "                    impute_vals.append(new_X[col].mean())\n",
    "        \n",
    "        self.fill = self.fill.append(pd.Series(impute_vals, index=cols))        \n",
    "            \n",
    "        return self\n",
    "    \n",
    "\n",
    "    def transform(self, X):\n",
    "        return X.fillna(self.fill)\n",
    "        "
   ]
  },
  {
   "cell_type": "code",
   "execution_count": 21,
   "id": "ab47785b",
   "metadata": {
    "scrolled": false
   },
   "outputs": [
    {
     "name": "stdout",
     "output_type": "stream",
     "text": [
      "X_train before...\n",
      "Missing columns for the X_train data:\n",
      " gender     102\n",
      "test_X1    292\n",
      "test_X2    859\n",
      "test_X3    146\n",
      "test_X4    273\n",
      "test_X5    272\n",
      "dtype: int64\n",
      "\n",
      "X_train after...\n",
      "Missing columns for the Train data:\n",
      " Series([], dtype: int64)\n",
      "\n",
      "-------------------------------------------------------------------\n",
      "\n",
      "X_valid before...\n",
      "Missing columns for the X_valid data:\n",
      " gender      39\n",
      "test_X1    119\n",
      "test_X2    384\n",
      "test_X3     70\n",
      "test_X4    119\n",
      "test_X5    115\n",
      "dtype: int64\n",
      "\n",
      "X_valid after...\n",
      "Missing columns for the Train data:\n",
      " Series([], dtype: int64)\n",
      "\n",
      "-------------------------------------------------------------------\n",
      "\n",
      "test_data before...\n",
      "Missing columns for the test_data:\n",
      " gender      26\n",
      "test_X1     76\n",
      "test_X2    208\n",
      "test_X3     33\n",
      "test_X4     72\n",
      "test_X5     71\n",
      "dtype: int64\n",
      "\n",
      "test_data after...\n",
      "Missing columns for the Train data:\n",
      " Series([], dtype: int64)\n"
     ]
    },
    {
     "name": "stderr",
     "output_type": "stream",
     "text": [
      "C:\\Users\\User\\AppData\\Local\\Temp\\ipykernel_20304\\2883223464.py:43: FutureWarning: The series.append method is deprecated and will be removed from pandas in a future version. Use pandas.concat instead.\n",
      "  self.fill = self.fill.append(pd.Series(impute_vals, index=cols))\n"
     ]
    }
   ],
   "source": [
    "df_imputer = DataFrameImputer(num_impute_type=1)\n",
    "df_imputer.fit(X_train)\n",
    "print('X_train before...')\n",
    "# print(X_train)\n",
    "#Let us see missing value for the train data before\n",
    "missing_val_count_by_column = X_train.isnull().sum()\n",
    "print('Missing columns for the X_train data:\\n',missing_val_count_by_column[missing_val_count_by_column>0])\n",
    "\n",
    "X_train = df_imputer.transform(X_train)\n",
    "\n",
    "print('\\nX_train after...')\n",
    "# print(X_train)\n",
    "#Let us see missing value for the train data after\n",
    "missing_val_count_by_column = X_train.isnull().sum()\n",
    "print('Missing columns for the Train data:\\n',missing_val_count_by_column[missing_val_count_by_column>0])\n",
    "\n",
    "print(\"\\n-------------------------------------------------------------------\")\n",
    "\n",
    "print('\\nX_valid before...')\n",
    "# print(X_valid)\n",
    "missing_val_count_by_column = X_valid.isnull().sum()\n",
    "print('Missing columns for the X_valid data:\\n',missing_val_count_by_column[missing_val_count_by_column>0])\n",
    "\n",
    "X_valid = df_imputer.transform(X_valid)\n",
    "\n",
    "print('\\nX_valid after...')\n",
    "# print(X_valid)\n",
    "missing_val_count_by_column = X_valid.isnull().sum()\n",
    "print('Missing columns for the Train data:\\n',missing_val_count_by_column[missing_val_count_by_column>0])\n",
    "\n",
    "print(\"\\n-------------------------------------------------------------------\")\n",
    "\n",
    "print('\\ntest_data before...')\n",
    "missing_val_count_by_column = test_data.isnull().sum()\n",
    "print('Missing columns for the test_data:\\n',missing_val_count_by_column[missing_val_count_by_column>0])\n",
    "\n",
    "test_data = df_imputer.transform(test_data)\n",
    "\n",
    "print('\\ntest_data after...')\n",
    "# print(X_valid)\n",
    "missing_val_count_by_column = test_data.isnull().sum()\n",
    "print('Missing columns for the Train data:\\n',missing_val_count_by_column[missing_val_count_by_column>0])\n"
   ]
  },
  {
   "cell_type": "markdown",
   "id": "97d34655",
   "metadata": {},
   "source": [
    "### Balancing the Data\n",
    "The cell below will sample the data with a technique in order to balance the dataset depending on the `sample_type` variable. \n",
    "\n",
    "0 = No balancing of the data\n",
    "\n",
    "1 = Oversampling using `SMOTENC` which handles dataset with both categorical and numerical features\n"
   ]
  },
  {
   "cell_type": "code",
   "execution_count": 22,
   "id": "6a0e6110",
   "metadata": {
    "scrolled": false
   },
   "outputs": [
    {
     "name": "stdout",
     "output_type": "stream",
     "text": [
      "Class Counts Before Balancing:\n",
      "(array(['high_risk', 'low_risk', 'moderate_risk'], dtype=object), array([ 104, 2529,  342], dtype=int64))\n",
      "\n",
      "Class Counts After Balancing:\n",
      "(array(['high_risk', 'low_risk', 'moderate_risk'], dtype=object), array([2529, 2529, 2529], dtype=int64))\n"
     ]
    }
   ],
   "source": [
    "# Display the class counts before balancing\n",
    "print(\"Class Counts Before Balancing:\")\n",
    "print(np.unique(y_train, return_counts=True))\n",
    "\n",
    "sampler = None\n",
    "sample_type = 1\n",
    "\n",
    "if sample_type:\n",
    "    sampler = SMOTENC(categorical_features=categorical_features, random_state=35)\n",
    "    balanced_X_train, balanced_y_train = sampler.fit_resample(X_train, y_train)\n",
    "else:\n",
    "    balanced_X_train = X_train.copy()\n",
    "    balanced_y_train = y_train.copy()\n",
    "\n",
    "# Display the class counts after balancing\n",
    "print(\"\\nClass Counts After Balancing:\")\n",
    "print(np.unique(balanced_y_train, return_counts=True))"
   ]
  },
  {
   "cell_type": "markdown",
   "id": "aaa4747d",
   "metadata": {},
   "source": [
    "### Encode categorical columns and target labels"
   ]
  },
  {
   "cell_type": "code",
   "execution_count": 23,
   "id": "b93538be",
   "metadata": {
    "scrolled": true
   },
   "outputs": [
    {
     "name": "stdout",
     "output_type": "stream",
     "text": [
      "      gender sick pregnant     test_X1   test_X2     test_X3   test_X4  \\\n",
      "0       male   no       no    0.800000  2.600000  113.000000  0.910000   \n",
      "1     female   no       no    0.510000  1.900000  118.000000  1.150000   \n",
      "2       male   no       no    1.000000  2.200000   95.000000  0.960000   \n",
      "3     female   no       no    2.800000  1.900000  123.000000  1.160000   \n",
      "4       male   no       no    0.210000  3.800000  168.000000  0.980000   \n",
      "...      ...  ...      ...         ...       ...         ...       ...   \n",
      "7582  female   no       no    7.679874  2.285004   80.925020  0.996373   \n",
      "7583  female   no       no  516.802257  1.974620   18.883096  1.165684   \n",
      "7584  female   no       no    6.561943  1.845708   97.638057  0.861717   \n",
      "7585    male   no       no    9.090183  2.206258   89.482209  0.960000   \n",
      "7586    male   no       no   15.236240  1.938188   86.872707  0.910000   \n",
      "\n",
      "         test_X5 concern_type1 concern_type2 enlargement tumor medication_A  \\\n",
      "0     123.000000            no            no          no    no           no   \n",
      "1     103.000000            no            no          no    no           no   \n",
      "2     100.000000            no            no          no    no           no   \n",
      "3     106.000000            no            no          no    no           no   \n",
      "4     171.000000            no            no          no    no           no   \n",
      "...          ...           ...           ...         ...   ...          ...   \n",
      "7582   81.475137           yes            no          no    no           no   \n",
      "7583   14.971970            no            no          no    no           no   \n",
      "7584  115.190283            no            no          no    no           no   \n",
      "7585  107.000000            no            no          no    no           no   \n",
      "7586   95.000000            no            no          no    no           no   \n",
      "\n",
      "     medication_B mental_health mood_stabiliser surgery treatment_type1  \n",
      "0              no            no              no      no              no  \n",
      "1              no           yes              no      no              no  \n",
      "2              no            no              no      no              no  \n",
      "3              no            no              no      no              no  \n",
      "4             yes            no              no      no              no  \n",
      "...           ...           ...             ...     ...             ...  \n",
      "7582           no            no              no      no              no  \n",
      "7583           no            no              no      no              no  \n",
      "7584           no            no              no      no              no  \n",
      "7585           no            no              no      no              no  \n",
      "7586           no            no              no      no              no  \n",
      "\n",
      "[7587 rows x 18 columns]\n",
      "      gender  sick  pregnant     test_X1   test_X2     test_X3   test_X4  \\\n",
      "0        1.0   1.0       1.0    0.800000  2.600000  113.000000  0.910000   \n",
      "1        2.0   1.0       1.0    0.510000  1.900000  118.000000  1.150000   \n",
      "2        1.0   1.0       1.0    1.000000  2.200000   95.000000  0.960000   \n",
      "3        2.0   1.0       1.0    2.800000  1.900000  123.000000  1.160000   \n",
      "4        1.0   1.0       1.0    0.210000  3.800000  168.000000  0.980000   \n",
      "...      ...   ...       ...         ...       ...         ...       ...   \n",
      "7582     2.0   1.0       1.0    7.679874  2.285004   80.925020  0.996373   \n",
      "7583     2.0   1.0       1.0  516.802257  1.974620   18.883096  1.165684   \n",
      "7584     2.0   1.0       1.0    6.561943  1.845708   97.638057  0.861717   \n",
      "7585     1.0   1.0       1.0    9.090183  2.206258   89.482209  0.960000   \n",
      "7586     1.0   1.0       1.0   15.236240  1.938188   86.872707  0.910000   \n",
      "\n",
      "         test_X5  concern_type1  concern_type2  enlargement  tumor  \\\n",
      "0     123.000000            1.0            1.0          1.0    1.0   \n",
      "1     103.000000            1.0            1.0          1.0    1.0   \n",
      "2     100.000000            1.0            1.0          1.0    1.0   \n",
      "3     106.000000            1.0            1.0          1.0    1.0   \n",
      "4     171.000000            1.0            1.0          1.0    1.0   \n",
      "...          ...            ...            ...          ...    ...   \n",
      "7582   81.475137            2.0            1.0          1.0    1.0   \n",
      "7583   14.971970            1.0            1.0          1.0    1.0   \n",
      "7584  115.190283            1.0            1.0          1.0    1.0   \n",
      "7585  107.000000            1.0            1.0          1.0    1.0   \n",
      "7586   95.000000            1.0            1.0          1.0    1.0   \n",
      "\n",
      "      medication_A  medication_B  mental_health  mood_stabiliser  surgery  \\\n",
      "0              1.0           1.0            1.0              1.0      1.0   \n",
      "1              1.0           1.0            2.0              1.0      1.0   \n",
      "2              1.0           1.0            1.0              1.0      1.0   \n",
      "3              1.0           1.0            1.0              1.0      1.0   \n",
      "4              1.0           2.0            1.0              1.0      1.0   \n",
      "...            ...           ...            ...              ...      ...   \n",
      "7582           1.0           1.0            1.0              1.0      1.0   \n",
      "7583           1.0           1.0            1.0              1.0      1.0   \n",
      "7584           1.0           1.0            1.0              1.0      1.0   \n",
      "7585           1.0           1.0            1.0              1.0      1.0   \n",
      "7586           1.0           1.0            1.0              1.0      1.0   \n",
      "\n",
      "      treatment_type1  \n",
      "0                 1.0  \n",
      "1                 1.0  \n",
      "2                 1.0  \n",
      "3                 1.0  \n",
      "4                 1.0  \n",
      "...               ...  \n",
      "7582              1.0  \n",
      "7583              1.0  \n",
      "7584              1.0  \n",
      "7585              1.0  \n",
      "7586              1.0  \n",
      "\n",
      "[7587 rows x 18 columns]\n"
     ]
    }
   ],
   "source": [
    "print(balanced_X_train)\n",
    "enc = ce.OrdinalEncoder(cols=categorical_features, handle_missing='return_nan', return_df=True)\n",
    "enc.fit(X_train)\n",
    "encoded_X_train = enc.transform(balanced_X_train)\n",
    "encoded_X_valid = enc.transform(X_valid)\n",
    "encoded_test_data = enc.transform(test_data)\n",
    "print(encoded_X_train)\n",
    "# encoded_train_data = enc.fit_transform(train_data)\n",
    "# encoded_test_data = enc.fit_transform(test_data)"
   ]
  },
  {
   "cell_type": "code",
   "execution_count": 24,
   "id": "19ed3c88",
   "metadata": {},
   "outputs": [
    {
     "name": "stdout",
     "output_type": "stream",
     "text": [
      "(array([0, 1, 2]), array([2529, 2529, 2529], dtype=int64))\n"
     ]
    }
   ],
   "source": [
    "le = LabelEncoder()\n",
    "le.fit(y_train)\n",
    "encoded_y_train = le.transform(balanced_y_train)\n",
    "encoded_y_valid = le.transform(y_valid)\n",
    "print(np.unique(encoded_y_train, return_counts=True))\n",
    "# test = le.inverse_transform(encoded_labels)"
   ]
  },
  {
   "cell_type": "markdown",
   "id": "856cd886",
   "metadata": {},
   "source": [
    "https://stats.stackexchange.com/questions/320085/when-imputing-missing-values-in-a-test-set-should-the-new-values-come-from-the\n",
    "\n",
    "https://stats.stackexchange.com/questions/344571/imputing-the-mean-value-from-the-train-set-into-the-test-set"
   ]
  },
  {
   "cell_type": "markdown",
   "id": "7bf3d737",
   "metadata": {},
   "source": [
    "## 3. Supervised Model Training, Tuning, and Evaluation"
   ]
  },
  {
   "cell_type": "markdown",
   "id": "7af0a8fc",
   "metadata": {},
   "source": [
    "For the model training, each classifier uses the `GridSearchCV` to get the best parameter combinations for each model's best performance."
   ]
  },
  {
   "cell_type": "markdown",
   "id": "4ac1f3f5",
   "metadata": {},
   "source": [
    "### Transformer Types"
   ]
  },
  {
   "cell_type": "code",
   "execution_count": 25,
   "id": "4935732b",
   "metadata": {},
   "outputs": [],
   "source": [
    "transformer_types = [\"passthrough\", StandardScaler(), Normalizer()]"
   ]
  },
  {
   "cell_type": "markdown",
   "id": "0534e918",
   "metadata": {},
   "source": [
    "### Decision Trees"
   ]
  },
  {
   "cell_type": "code",
   "execution_count": 26,
   "id": "c9f4777c",
   "metadata": {},
   "outputs": [],
   "source": [
    "# dt_params = (DecisionTreeClassifier, {'criterion': ['gini', 'entropy'], \n",
    "#                                       'max_depth': [None, 10, 20, 30], \n",
    "#                                       'min_samples_split': [2, 5, 10], \n",
    "#                                       'min_samples_leaf': [1, 2, 4]})\n",
    "dt_params = {\n",
    "    'criterion': ['gini', 'entropy'], \n",
    "    'max_depth': [None, 10, 20, 30],  \n",
    "    'min_samples_split': [2, 5, 10], \n",
    "    'min_samples_leaf': [1, 2, 4]\n",
    "}\n",
    "\n",
    "clfs = [DecisionTreeClassifier(random_state=35, **para) for para in ParameterGrid(dt_params)]\n",
    "dt_pipeline = Pipeline(\n",
    "    [\n",
    "        (\"transformer\", \"passthrough\"),\n",
    "        (\"clf\", DecisionTreeClassifier)\n",
    "    ]\n",
    ")\n",
    "\n",
    "dt_pipeline_params = {\n",
    "    \"transformer\": transformer_types,\n",
    "    \"clf\": clfs\n",
    "}\n",
    "\n",
    "# grid_cv = GridSearchCV(pipeline, dt_params)\n",
    "# grid_cv.fit(encoded_X_train, encoded_y_train)\n",
    "# score = grid_cv.score(encoded_X_valid, encoded_y_valid)\n",
    "# print(score)\n",
    "# print(grid_cv.best_params_)"
   ]
  },
  {
   "cell_type": "markdown",
   "id": "48589efa",
   "metadata": {},
   "source": [
    "### Random Forest"
   ]
  },
  {
   "cell_type": "code",
   "execution_count": 27,
   "id": "870e60e8",
   "metadata": {},
   "outputs": [],
   "source": [
    "rf_params = {\n",
    "    'criterion': ['gini', 'entropy'], \n",
    "    'max_depth': [None, 10, 20, 30],\n",
    "    'min_samples_split': [2, 5, 10], \n",
    "    'min_samples_leaf': [1, 2, 4],\n",
    "    'bootstrap': [True, False]\n",
    "}\n",
    "\n",
    "clfs = [RandomForestClassifier(random_state=35, **para) for para in ParameterGrid(rf_params)]\n",
    "rf_pipeline = Pipeline(\n",
    "    [\n",
    "        (\"transformer\", \"passthrough\"),\n",
    "        (\"clf\", RandomForestClassifier)\n",
    "    ]\n",
    ")\n",
    "rf_pipeline_params = {\n",
    "    \"transformer\": transformer_types,\n",
    "    \"clf\": clfs\n",
    "}\n",
    "\n",
    "# grid_cv = GridSearchCV(rf_pipeline, rf_params)\n",
    "# grid_cv.fit(encoded_X_train, encoded_y_train)\n",
    "# score = grid_cv.score(encoded_X_valid, encoded_y_valid)\n",
    "# print(score)\n",
    "# print(grid_cv.best_params_)\n"
   ]
  },
  {
   "cell_type": "markdown",
   "id": "51a498b6",
   "metadata": {},
   "source": [
    "### K-Nearest Neighbours"
   ]
  },
  {
   "cell_type": "code",
   "execution_count": 28,
   "id": "ea3d6e03",
   "metadata": {},
   "outputs": [],
   "source": [
    "knn_params = {\n",
    "    'n_neighbors': [1, 3, 5, 7], \n",
    "    'algorithm': ['ball_tree', 'kd_tree'], \n",
    "    'metric': ['euclidean', 'manhattan']\n",
    "}\n",
    "\n",
    "clfs = [KNeighborsClassifier(**para) for para in ParameterGrid(knn_params)]\n",
    "knn_pipeline = Pipeline(\n",
    "    [\n",
    "        (\"transformer\", \"passthrough\"),\n",
    "        (\"clf\", KNeighborsClassifier)\n",
    "    ]\n",
    ")\n",
    "knn_pipeline_params = {\n",
    "    \"transformer\": transformer_types,\n",
    "    \"clf\": clfs\n",
    "}\n",
    "\n",
    "# grid_cv = GridSearchCV(knn_pipeline, knn_params)\n",
    "# grid_cv.fit(encoded_X_train, encoded_y_train)\n",
    "# score = grid_cv.score(encoded_X_valid, encoded_y_valid)\n",
    "# print(score)\n",
    "# print(grid_cv.best_params_)\n"
   ]
  },
  {
   "cell_type": "markdown",
   "id": "826bd5b3",
   "metadata": {},
   "source": [
    "### Support Vector Machine (SVM)"
   ]
  },
  {
   "cell_type": "code",
   "execution_count": 29,
   "id": "56a0c13e",
   "metadata": {},
   "outputs": [],
   "source": [
    "\n",
    "svm_params = {\n",
    "    \"kernel\": [\"linear\", \"poly\", \"rbf\", \"sigmoid\"], \n",
    "    \"C\": [0.001, 0.01, 0.1, 1.0]\n",
    "}\n",
    "\n",
    "clfs = [SVC(**para) for para in ParameterGrid(svm_params)]\n",
    "svm_pipeline = Pipeline(\n",
    "    [\n",
    "        (\"transformer\", \"passthrough\"),\n",
    "        (\"clf\", SVC)\n",
    "    ]\n",
    ")\n",
    "svm_pipeline_params = {\n",
    "    \"transformer\": transformer_types,\n",
    "    \"clf\": clfs\n",
    "}\n",
    "\n",
    "# grid_cv = GridSearchCV(svm_pipeline, svm_params)\n",
    "# grid_cv.fit(encoded_X_train, encoded_y_train)\n",
    "# score = grid_cv.score(encoded_X_valid, encoded_y_valid)\n",
    "# print(score)\n",
    "# print(grid_cv.best_params_)\n"
   ]
  },
  {
   "cell_type": "markdown",
   "id": "8b54b2f2",
   "metadata": {},
   "source": [
    "### Logistic Regression"
   ]
  },
  {
   "cell_type": "code",
   "execution_count": 30,
   "id": "2cf60616",
   "metadata": {},
   "outputs": [],
   "source": [
    "lr_params = {\n",
    "    \"penalty\" : [\"l1\", \"l2\", \"elasticnet\", \"none\"], \n",
    "    \"C\": [0.01, 0.1, 1.0]\n",
    "}\n",
    "\n",
    "clfs = [LogisticRegression(**para) for para in ParameterGrid(lr_params)]\n",
    "lr_pipeline = Pipeline(\n",
    "    [\n",
    "        (\"transformer\", \"passthrough\"),\n",
    "        (\"clf\", LogisticRegression)\n",
    "    ]\n",
    ")\n",
    "lr_pipeline_params = {\n",
    "    \"transformer\": transformer_types,\n",
    "    \"clf\": clfs\n",
    "}\n",
    "\n",
    "# grid_cv = GridSearchCV(lr_pipeline, lr_params)\n",
    "# grid_cv.fit(encoded_X_train, encoded_y_train)\n",
    "# score = grid_cv.score(encoded_X_valid, encoded_y_valid)\n",
    "# print(score)\n",
    "# print(grid_cv.best_params_)"
   ]
  },
  {
   "cell_type": "markdown",
   "id": "ab8f3d12",
   "metadata": {},
   "source": [
    "Pipeline is used here for all of the classifiers going through each parameters"
   ]
  },
  {
   "cell_type": "code",
   "execution_count": 31,
   "id": "937b0825",
   "metadata": {},
   "outputs": [
    {
     "name": "stdout",
     "output_type": "stream",
     "text": [
      "Decision Tree\n",
      "Random Forest\n",
      "K-Nearest Neighbors\n",
      "Support Vector Machine\n",
      "Logistic Regression\n"
     ]
    },
    {
     "name": "stderr",
     "output_type": "stream",
     "text": [
      "C:\\Users\\User\\anaconda3\\lib\\site-packages\\sklearn\\linear_model\\_logistic.py:814: ConvergenceWarning: lbfgs failed to converge (status=1):\n",
      "STOP: TOTAL NO. of ITERATIONS REACHED LIMIT.\n",
      "\n",
      "Increase the number of iterations (max_iter) or scale the data as shown in:\n",
      "    https://scikit-learn.org/stable/modules/preprocessing.html\n",
      "Please also refer to the documentation for alternative solver options:\n",
      "    https://scikit-learn.org/stable/modules/linear_model.html#logistic-regression\n",
      "  n_iter_i = _check_optimize_result(\n",
      "C:\\Users\\User\\anaconda3\\lib\\site-packages\\sklearn\\linear_model\\_logistic.py:814: ConvergenceWarning: lbfgs failed to converge (status=1):\n",
      "STOP: TOTAL NO. of ITERATIONS REACHED LIMIT.\n",
      "\n",
      "Increase the number of iterations (max_iter) or scale the data as shown in:\n",
      "    https://scikit-learn.org/stable/modules/preprocessing.html\n",
      "Please also refer to the documentation for alternative solver options:\n",
      "    https://scikit-learn.org/stable/modules/linear_model.html#logistic-regression\n",
      "  n_iter_i = _check_optimize_result(\n",
      "C:\\Users\\User\\anaconda3\\lib\\site-packages\\sklearn\\linear_model\\_logistic.py:814: ConvergenceWarning: lbfgs failed to converge (status=1):\n",
      "STOP: TOTAL NO. of ITERATIONS REACHED LIMIT.\n",
      "\n",
      "Increase the number of iterations (max_iter) or scale the data as shown in:\n",
      "    https://scikit-learn.org/stable/modules/preprocessing.html\n",
      "Please also refer to the documentation for alternative solver options:\n",
      "    https://scikit-learn.org/stable/modules/linear_model.html#logistic-regression\n",
      "  n_iter_i = _check_optimize_result(\n",
      "C:\\Users\\User\\anaconda3\\lib\\site-packages\\sklearn\\linear_model\\_logistic.py:814: ConvergenceWarning: lbfgs failed to converge (status=1):\n",
      "STOP: TOTAL NO. of ITERATIONS REACHED LIMIT.\n",
      "\n",
      "Increase the number of iterations (max_iter) or scale the data as shown in:\n",
      "    https://scikit-learn.org/stable/modules/preprocessing.html\n",
      "Please also refer to the documentation for alternative solver options:\n",
      "    https://scikit-learn.org/stable/modules/linear_model.html#logistic-regression\n",
      "  n_iter_i = _check_optimize_result(\n",
      "C:\\Users\\User\\anaconda3\\lib\\site-packages\\sklearn\\linear_model\\_logistic.py:814: ConvergenceWarning: lbfgs failed to converge (status=1):\n",
      "STOP: TOTAL NO. of ITERATIONS REACHED LIMIT.\n",
      "\n",
      "Increase the number of iterations (max_iter) or scale the data as shown in:\n",
      "    https://scikit-learn.org/stable/modules/preprocessing.html\n",
      "Please also refer to the documentation for alternative solver options:\n",
      "    https://scikit-learn.org/stable/modules/linear_model.html#logistic-regression\n",
      "  n_iter_i = _check_optimize_result(\n",
      "C:\\Users\\User\\anaconda3\\lib\\site-packages\\sklearn\\linear_model\\_logistic.py:1483: UserWarning: Setting penalty='none' will ignore the C and l1_ratio parameters\n",
      "  warnings.warn(\n",
      "C:\\Users\\User\\anaconda3\\lib\\site-packages\\sklearn\\linear_model\\_logistic.py:814: ConvergenceWarning: lbfgs failed to converge (status=1):\n",
      "STOP: TOTAL NO. of ITERATIONS REACHED LIMIT.\n",
      "\n",
      "Increase the number of iterations (max_iter) or scale the data as shown in:\n",
      "    https://scikit-learn.org/stable/modules/preprocessing.html\n",
      "Please also refer to the documentation for alternative solver options:\n",
      "    https://scikit-learn.org/stable/modules/linear_model.html#logistic-regression\n",
      "  n_iter_i = _check_optimize_result(\n",
      "C:\\Users\\User\\anaconda3\\lib\\site-packages\\sklearn\\linear_model\\_logistic.py:1483: UserWarning: Setting penalty='none' will ignore the C and l1_ratio parameters\n",
      "  warnings.warn(\n",
      "C:\\Users\\User\\anaconda3\\lib\\site-packages\\sklearn\\linear_model\\_logistic.py:814: ConvergenceWarning: lbfgs failed to converge (status=1):\n",
      "STOP: TOTAL NO. of ITERATIONS REACHED LIMIT.\n",
      "\n",
      "Increase the number of iterations (max_iter) or scale the data as shown in:\n",
      "    https://scikit-learn.org/stable/modules/preprocessing.html\n",
      "Please also refer to the documentation for alternative solver options:\n",
      "    https://scikit-learn.org/stable/modules/linear_model.html#logistic-regression\n",
      "  n_iter_i = _check_optimize_result(\n",
      "C:\\Users\\User\\anaconda3\\lib\\site-packages\\sklearn\\linear_model\\_logistic.py:1483: UserWarning: Setting penalty='none' will ignore the C and l1_ratio parameters\n",
      "  warnings.warn(\n",
      "C:\\Users\\User\\anaconda3\\lib\\site-packages\\sklearn\\linear_model\\_logistic.py:814: ConvergenceWarning: lbfgs failed to converge (status=1):\n",
      "STOP: TOTAL NO. of ITERATIONS REACHED LIMIT.\n",
      "\n",
      "Increase the number of iterations (max_iter) or scale the data as shown in:\n",
      "    https://scikit-learn.org/stable/modules/preprocessing.html\n",
      "Please also refer to the documentation for alternative solver options:\n",
      "    https://scikit-learn.org/stable/modules/linear_model.html#logistic-regression\n",
      "  n_iter_i = _check_optimize_result(\n",
      "C:\\Users\\User\\anaconda3\\lib\\site-packages\\sklearn\\linear_model\\_logistic.py:1483: UserWarning: Setting penalty='none' will ignore the C and l1_ratio parameters\n",
      "  warnings.warn(\n",
      "C:\\Users\\User\\anaconda3\\lib\\site-packages\\sklearn\\linear_model\\_logistic.py:814: ConvergenceWarning: lbfgs failed to converge (status=1):\n",
      "STOP: TOTAL NO. of ITERATIONS REACHED LIMIT.\n",
      "\n",
      "Increase the number of iterations (max_iter) or scale the data as shown in:\n",
      "    https://scikit-learn.org/stable/modules/preprocessing.html\n",
      "Please also refer to the documentation for alternative solver options:\n",
      "    https://scikit-learn.org/stable/modules/linear_model.html#logistic-regression\n",
      "  n_iter_i = _check_optimize_result(\n",
      "C:\\Users\\User\\anaconda3\\lib\\site-packages\\sklearn\\linear_model\\_logistic.py:1483: UserWarning: Setting penalty='none' will ignore the C and l1_ratio parameters\n",
      "  warnings.warn(\n",
      "C:\\Users\\User\\anaconda3\\lib\\site-packages\\sklearn\\linear_model\\_logistic.py:814: ConvergenceWarning: lbfgs failed to converge (status=1):\n",
      "STOP: TOTAL NO. of ITERATIONS REACHED LIMIT.\n",
      "\n",
      "Increase the number of iterations (max_iter) or scale the data as shown in:\n",
      "    https://scikit-learn.org/stable/modules/preprocessing.html\n",
      "Please also refer to the documentation for alternative solver options:\n",
      "    https://scikit-learn.org/stable/modules/linear_model.html#logistic-regression\n",
      "  n_iter_i = _check_optimize_result(\n",
      "C:\\Users\\User\\anaconda3\\lib\\site-packages\\sklearn\\linear_model\\_logistic.py:1483: UserWarning: Setting penalty='none' will ignore the C and l1_ratio parameters\n",
      "  warnings.warn(\n",
      "C:\\Users\\User\\anaconda3\\lib\\site-packages\\sklearn\\linear_model\\_logistic.py:814: ConvergenceWarning: lbfgs failed to converge (status=1):\n",
      "STOP: TOTAL NO. of ITERATIONS REACHED LIMIT.\n",
      "\n",
      "Increase the number of iterations (max_iter) or scale the data as shown in:\n",
      "    https://scikit-learn.org/stable/modules/preprocessing.html\n",
      "Please also refer to the documentation for alternative solver options:\n",
      "    https://scikit-learn.org/stable/modules/linear_model.html#logistic-regression\n",
      "  n_iter_i = _check_optimize_result(\n",
      "C:\\Users\\User\\anaconda3\\lib\\site-packages\\sklearn\\linear_model\\_logistic.py:1483: UserWarning: Setting penalty='none' will ignore the C and l1_ratio parameters\n",
      "  warnings.warn(\n",
      "C:\\Users\\User\\anaconda3\\lib\\site-packages\\sklearn\\linear_model\\_logistic.py:814: ConvergenceWarning: lbfgs failed to converge (status=1):\n",
      "STOP: TOTAL NO. of ITERATIONS REACHED LIMIT.\n",
      "\n",
      "Increase the number of iterations (max_iter) or scale the data as shown in:\n",
      "    https://scikit-learn.org/stable/modules/preprocessing.html\n",
      "Please also refer to the documentation for alternative solver options:\n",
      "    https://scikit-learn.org/stable/modules/linear_model.html#logistic-regression\n",
      "  n_iter_i = _check_optimize_result(\n",
      "C:\\Users\\User\\anaconda3\\lib\\site-packages\\sklearn\\linear_model\\_logistic.py:1483: UserWarning: Setting penalty='none' will ignore the C and l1_ratio parameters\n",
      "  warnings.warn(\n",
      "C:\\Users\\User\\anaconda3\\lib\\site-packages\\sklearn\\linear_model\\_logistic.py:814: ConvergenceWarning: lbfgs failed to converge (status=1):\n",
      "STOP: TOTAL NO. of ITERATIONS REACHED LIMIT.\n",
      "\n",
      "Increase the number of iterations (max_iter) or scale the data as shown in:\n",
      "    https://scikit-learn.org/stable/modules/preprocessing.html\n",
      "Please also refer to the documentation for alternative solver options:\n",
      "    https://scikit-learn.org/stable/modules/linear_model.html#logistic-regression\n",
      "  n_iter_i = _check_optimize_result(\n",
      "C:\\Users\\User\\anaconda3\\lib\\site-packages\\sklearn\\linear_model\\_logistic.py:1483: UserWarning: Setting penalty='none' will ignore the C and l1_ratio parameters\n",
      "  warnings.warn(\n",
      "C:\\Users\\User\\anaconda3\\lib\\site-packages\\sklearn\\linear_model\\_logistic.py:814: ConvergenceWarning: lbfgs failed to converge (status=1):\n",
      "STOP: TOTAL NO. of ITERATIONS REACHED LIMIT.\n",
      "\n",
      "Increase the number of iterations (max_iter) or scale the data as shown in:\n",
      "    https://scikit-learn.org/stable/modules/preprocessing.html\n",
      "Please also refer to the documentation for alternative solver options:\n",
      "    https://scikit-learn.org/stable/modules/linear_model.html#logistic-regression\n",
      "  n_iter_i = _check_optimize_result(\n",
      "C:\\Users\\User\\anaconda3\\lib\\site-packages\\sklearn\\linear_model\\_logistic.py:1483: UserWarning: Setting penalty='none' will ignore the C and l1_ratio parameters\n",
      "  warnings.warn(\n"
     ]
    },
    {
     "name": "stderr",
     "output_type": "stream",
     "text": [
      "C:\\Users\\User\\anaconda3\\lib\\site-packages\\sklearn\\linear_model\\_logistic.py:814: ConvergenceWarning: lbfgs failed to converge (status=1):\n",
      "STOP: TOTAL NO. of ITERATIONS REACHED LIMIT.\n",
      "\n",
      "Increase the number of iterations (max_iter) or scale the data as shown in:\n",
      "    https://scikit-learn.org/stable/modules/preprocessing.html\n",
      "Please also refer to the documentation for alternative solver options:\n",
      "    https://scikit-learn.org/stable/modules/linear_model.html#logistic-regression\n",
      "  n_iter_i = _check_optimize_result(\n",
      "C:\\Users\\User\\anaconda3\\lib\\site-packages\\sklearn\\linear_model\\_logistic.py:1483: UserWarning: Setting penalty='none' will ignore the C and l1_ratio parameters\n",
      "  warnings.warn(\n",
      "C:\\Users\\User\\anaconda3\\lib\\site-packages\\sklearn\\linear_model\\_logistic.py:814: ConvergenceWarning: lbfgs failed to converge (status=1):\n",
      "STOP: TOTAL NO. of ITERATIONS REACHED LIMIT.\n",
      "\n",
      "Increase the number of iterations (max_iter) or scale the data as shown in:\n",
      "    https://scikit-learn.org/stable/modules/preprocessing.html\n",
      "Please also refer to the documentation for alternative solver options:\n",
      "    https://scikit-learn.org/stable/modules/linear_model.html#logistic-regression\n",
      "  n_iter_i = _check_optimize_result(\n",
      "C:\\Users\\User\\anaconda3\\lib\\site-packages\\sklearn\\linear_model\\_logistic.py:1483: UserWarning: Setting penalty='none' will ignore the C and l1_ratio parameters\n",
      "  warnings.warn(\n",
      "C:\\Users\\User\\anaconda3\\lib\\site-packages\\sklearn\\linear_model\\_logistic.py:814: ConvergenceWarning: lbfgs failed to converge (status=1):\n",
      "STOP: TOTAL NO. of ITERATIONS REACHED LIMIT.\n",
      "\n",
      "Increase the number of iterations (max_iter) or scale the data as shown in:\n",
      "    https://scikit-learn.org/stable/modules/preprocessing.html\n",
      "Please also refer to the documentation for alternative solver options:\n",
      "    https://scikit-learn.org/stable/modules/linear_model.html#logistic-regression\n",
      "  n_iter_i = _check_optimize_result(\n",
      "C:\\Users\\User\\anaconda3\\lib\\site-packages\\sklearn\\linear_model\\_logistic.py:1483: UserWarning: Setting penalty='none' will ignore the C and l1_ratio parameters\n",
      "  warnings.warn(\n",
      "C:\\Users\\User\\anaconda3\\lib\\site-packages\\sklearn\\linear_model\\_logistic.py:814: ConvergenceWarning: lbfgs failed to converge (status=1):\n",
      "STOP: TOTAL NO. of ITERATIONS REACHED LIMIT.\n",
      "\n",
      "Increase the number of iterations (max_iter) or scale the data as shown in:\n",
      "    https://scikit-learn.org/stable/modules/preprocessing.html\n",
      "Please also refer to the documentation for alternative solver options:\n",
      "    https://scikit-learn.org/stable/modules/linear_model.html#logistic-regression\n",
      "  n_iter_i = _check_optimize_result(\n",
      "C:\\Users\\User\\anaconda3\\lib\\site-packages\\sklearn\\linear_model\\_logistic.py:1483: UserWarning: Setting penalty='none' will ignore the C and l1_ratio parameters\n",
      "  warnings.warn(\n",
      "C:\\Users\\User\\anaconda3\\lib\\site-packages\\sklearn\\linear_model\\_logistic.py:814: ConvergenceWarning: lbfgs failed to converge (status=1):\n",
      "STOP: TOTAL NO. of ITERATIONS REACHED LIMIT.\n",
      "\n",
      "Increase the number of iterations (max_iter) or scale the data as shown in:\n",
      "    https://scikit-learn.org/stable/modules/preprocessing.html\n",
      "Please also refer to the documentation for alternative solver options:\n",
      "    https://scikit-learn.org/stable/modules/linear_model.html#logistic-regression\n",
      "  n_iter_i = _check_optimize_result(\n",
      "C:\\Users\\User\\anaconda3\\lib\\site-packages\\sklearn\\linear_model\\_logistic.py:1483: UserWarning: Setting penalty='none' will ignore the C and l1_ratio parameters\n",
      "  warnings.warn(\n",
      "C:\\Users\\User\\anaconda3\\lib\\site-packages\\sklearn\\linear_model\\_logistic.py:814: ConvergenceWarning: lbfgs failed to converge (status=1):\n",
      "STOP: TOTAL NO. of ITERATIONS REACHED LIMIT.\n",
      "\n",
      "Increase the number of iterations (max_iter) or scale the data as shown in:\n",
      "    https://scikit-learn.org/stable/modules/preprocessing.html\n",
      "Please also refer to the documentation for alternative solver options:\n",
      "    https://scikit-learn.org/stable/modules/linear_model.html#logistic-regression\n",
      "  n_iter_i = _check_optimize_result(\n",
      "C:\\Users\\User\\anaconda3\\lib\\site-packages\\sklearn\\linear_model\\_logistic.py:814: ConvergenceWarning: lbfgs failed to converge (status=1):\n",
      "STOP: TOTAL NO. of ITERATIONS REACHED LIMIT.\n",
      "\n",
      "Increase the number of iterations (max_iter) or scale the data as shown in:\n",
      "    https://scikit-learn.org/stable/modules/preprocessing.html\n",
      "Please also refer to the documentation for alternative solver options:\n",
      "    https://scikit-learn.org/stable/modules/linear_model.html#logistic-regression\n",
      "  n_iter_i = _check_optimize_result(\n",
      "C:\\Users\\User\\anaconda3\\lib\\site-packages\\sklearn\\linear_model\\_logistic.py:814: ConvergenceWarning: lbfgs failed to converge (status=1):\n",
      "STOP: TOTAL NO. of ITERATIONS REACHED LIMIT.\n",
      "\n",
      "Increase the number of iterations (max_iter) or scale the data as shown in:\n",
      "    https://scikit-learn.org/stable/modules/preprocessing.html\n",
      "Please also refer to the documentation for alternative solver options:\n",
      "    https://scikit-learn.org/stable/modules/linear_model.html#logistic-regression\n",
      "  n_iter_i = _check_optimize_result(\n",
      "C:\\Users\\User\\anaconda3\\lib\\site-packages\\sklearn\\linear_model\\_logistic.py:814: ConvergenceWarning: lbfgs failed to converge (status=1):\n",
      "STOP: TOTAL NO. of ITERATIONS REACHED LIMIT.\n",
      "\n",
      "Increase the number of iterations (max_iter) or scale the data as shown in:\n",
      "    https://scikit-learn.org/stable/modules/preprocessing.html\n",
      "Please also refer to the documentation for alternative solver options:\n",
      "    https://scikit-learn.org/stable/modules/linear_model.html#logistic-regression\n",
      "  n_iter_i = _check_optimize_result(\n",
      "C:\\Users\\User\\anaconda3\\lib\\site-packages\\sklearn\\linear_model\\_logistic.py:814: ConvergenceWarning: lbfgs failed to converge (status=1):\n",
      "STOP: TOTAL NO. of ITERATIONS REACHED LIMIT.\n",
      "\n",
      "Increase the number of iterations (max_iter) or scale the data as shown in:\n",
      "    https://scikit-learn.org/stable/modules/preprocessing.html\n",
      "Please also refer to the documentation for alternative solver options:\n",
      "    https://scikit-learn.org/stable/modules/linear_model.html#logistic-regression\n",
      "  n_iter_i = _check_optimize_result(\n",
      "C:\\Users\\User\\anaconda3\\lib\\site-packages\\sklearn\\linear_model\\_logistic.py:814: ConvergenceWarning: lbfgs failed to converge (status=1):\n",
      "STOP: TOTAL NO. of ITERATIONS REACHED LIMIT.\n",
      "\n",
      "Increase the number of iterations (max_iter) or scale the data as shown in:\n",
      "    https://scikit-learn.org/stable/modules/preprocessing.html\n",
      "Please also refer to the documentation for alternative solver options:\n",
      "    https://scikit-learn.org/stable/modules/linear_model.html#logistic-regression\n",
      "  n_iter_i = _check_optimize_result(\n",
      "C:\\Users\\User\\anaconda3\\lib\\site-packages\\sklearn\\linear_model\\_logistic.py:1483: UserWarning: Setting penalty='none' will ignore the C and l1_ratio parameters\n",
      "  warnings.warn(\n",
      "C:\\Users\\User\\anaconda3\\lib\\site-packages\\sklearn\\linear_model\\_logistic.py:814: ConvergenceWarning: lbfgs failed to converge (status=1):\n",
      "STOP: TOTAL NO. of ITERATIONS REACHED LIMIT.\n",
      "\n",
      "Increase the number of iterations (max_iter) or scale the data as shown in:\n",
      "    https://scikit-learn.org/stable/modules/preprocessing.html\n",
      "Please also refer to the documentation for alternative solver options:\n",
      "    https://scikit-learn.org/stable/modules/linear_model.html#logistic-regression\n",
      "  n_iter_i = _check_optimize_result(\n",
      "C:\\Users\\User\\anaconda3\\lib\\site-packages\\sklearn\\linear_model\\_logistic.py:1483: UserWarning: Setting penalty='none' will ignore the C and l1_ratio parameters\n",
      "  warnings.warn(\n",
      "C:\\Users\\User\\anaconda3\\lib\\site-packages\\sklearn\\linear_model\\_logistic.py:814: ConvergenceWarning: lbfgs failed to converge (status=1):\n",
      "STOP: TOTAL NO. of ITERATIONS REACHED LIMIT.\n",
      "\n",
      "Increase the number of iterations (max_iter) or scale the data as shown in:\n",
      "    https://scikit-learn.org/stable/modules/preprocessing.html\n",
      "Please also refer to the documentation for alternative solver options:\n",
      "    https://scikit-learn.org/stable/modules/linear_model.html#logistic-regression\n",
      "  n_iter_i = _check_optimize_result(\n",
      "C:\\Users\\User\\anaconda3\\lib\\site-packages\\sklearn\\linear_model\\_logistic.py:1483: UserWarning: Setting penalty='none' will ignore the C and l1_ratio parameters\n",
      "  warnings.warn(\n",
      "C:\\Users\\User\\anaconda3\\lib\\site-packages\\sklearn\\linear_model\\_logistic.py:814: ConvergenceWarning: lbfgs failed to converge (status=1):\n",
      "STOP: TOTAL NO. of ITERATIONS REACHED LIMIT.\n",
      "\n",
      "Increase the number of iterations (max_iter) or scale the data as shown in:\n",
      "    https://scikit-learn.org/stable/modules/preprocessing.html\n",
      "Please also refer to the documentation for alternative solver options:\n",
      "    https://scikit-learn.org/stable/modules/linear_model.html#logistic-regression\n",
      "  n_iter_i = _check_optimize_result(\n",
      "C:\\Users\\User\\anaconda3\\lib\\site-packages\\sklearn\\linear_model\\_logistic.py:1483: UserWarning: Setting penalty='none' will ignore the C and l1_ratio parameters\n",
      "  warnings.warn(\n",
      "C:\\Users\\User\\anaconda3\\lib\\site-packages\\sklearn\\linear_model\\_logistic.py:814: ConvergenceWarning: lbfgs failed to converge (status=1):\n",
      "STOP: TOTAL NO. of ITERATIONS REACHED LIMIT.\n",
      "\n",
      "Increase the number of iterations (max_iter) or scale the data as shown in:\n",
      "    https://scikit-learn.org/stable/modules/preprocessing.html\n",
      "Please also refer to the documentation for alternative solver options:\n",
      "    https://scikit-learn.org/stable/modules/linear_model.html#logistic-regression\n",
      "  n_iter_i = _check_optimize_result(\n"
     ]
    },
    {
     "name": "stderr",
     "output_type": "stream",
     "text": [
      "C:\\Users\\User\\anaconda3\\lib\\site-packages\\sklearn\\linear_model\\_logistic.py:1483: UserWarning: Setting penalty='none' will ignore the C and l1_ratio parameters\n",
      "  warnings.warn(\n",
      "C:\\Users\\User\\anaconda3\\lib\\site-packages\\sklearn\\linear_model\\_logistic.py:814: ConvergenceWarning: lbfgs failed to converge (status=1):\n",
      "STOP: TOTAL NO. of ITERATIONS REACHED LIMIT.\n",
      "\n",
      "Increase the number of iterations (max_iter) or scale the data as shown in:\n",
      "    https://scikit-learn.org/stable/modules/preprocessing.html\n",
      "Please also refer to the documentation for alternative solver options:\n",
      "    https://scikit-learn.org/stable/modules/linear_model.html#logistic-regression\n",
      "  n_iter_i = _check_optimize_result(\n",
      "C:\\Users\\User\\anaconda3\\lib\\site-packages\\sklearn\\linear_model\\_logistic.py:1483: UserWarning: Setting penalty='none' will ignore the C and l1_ratio parameters\n",
      "  warnings.warn(\n",
      "C:\\Users\\User\\anaconda3\\lib\\site-packages\\sklearn\\linear_model\\_logistic.py:814: ConvergenceWarning: lbfgs failed to converge (status=1):\n",
      "STOP: TOTAL NO. of ITERATIONS REACHED LIMIT.\n",
      "\n",
      "Increase the number of iterations (max_iter) or scale the data as shown in:\n",
      "    https://scikit-learn.org/stable/modules/preprocessing.html\n",
      "Please also refer to the documentation for alternative solver options:\n",
      "    https://scikit-learn.org/stable/modules/linear_model.html#logistic-regression\n",
      "  n_iter_i = _check_optimize_result(\n",
      "C:\\Users\\User\\anaconda3\\lib\\site-packages\\sklearn\\linear_model\\_logistic.py:1483: UserWarning: Setting penalty='none' will ignore the C and l1_ratio parameters\n",
      "  warnings.warn(\n",
      "C:\\Users\\User\\anaconda3\\lib\\site-packages\\sklearn\\linear_model\\_logistic.py:814: ConvergenceWarning: lbfgs failed to converge (status=1):\n",
      "STOP: TOTAL NO. of ITERATIONS REACHED LIMIT.\n",
      "\n",
      "Increase the number of iterations (max_iter) or scale the data as shown in:\n",
      "    https://scikit-learn.org/stable/modules/preprocessing.html\n",
      "Please also refer to the documentation for alternative solver options:\n",
      "    https://scikit-learn.org/stable/modules/linear_model.html#logistic-regression\n",
      "  n_iter_i = _check_optimize_result(\n",
      "C:\\Users\\User\\anaconda3\\lib\\site-packages\\sklearn\\linear_model\\_logistic.py:1483: UserWarning: Setting penalty='none' will ignore the C and l1_ratio parameters\n",
      "  warnings.warn(\n",
      "C:\\Users\\User\\anaconda3\\lib\\site-packages\\sklearn\\linear_model\\_logistic.py:814: ConvergenceWarning: lbfgs failed to converge (status=1):\n",
      "STOP: TOTAL NO. of ITERATIONS REACHED LIMIT.\n",
      "\n",
      "Increase the number of iterations (max_iter) or scale the data as shown in:\n",
      "    https://scikit-learn.org/stable/modules/preprocessing.html\n",
      "Please also refer to the documentation for alternative solver options:\n",
      "    https://scikit-learn.org/stable/modules/linear_model.html#logistic-regression\n",
      "  n_iter_i = _check_optimize_result(\n",
      "C:\\Users\\User\\anaconda3\\lib\\site-packages\\sklearn\\linear_model\\_logistic.py:1483: UserWarning: Setting penalty='none' will ignore the C and l1_ratio parameters\n",
      "  warnings.warn(\n",
      "C:\\Users\\User\\anaconda3\\lib\\site-packages\\sklearn\\linear_model\\_logistic.py:814: ConvergenceWarning: lbfgs failed to converge (status=1):\n",
      "STOP: TOTAL NO. of ITERATIONS REACHED LIMIT.\n",
      "\n",
      "Increase the number of iterations (max_iter) or scale the data as shown in:\n",
      "    https://scikit-learn.org/stable/modules/preprocessing.html\n",
      "Please also refer to the documentation for alternative solver options:\n",
      "    https://scikit-learn.org/stable/modules/linear_model.html#logistic-regression\n",
      "  n_iter_i = _check_optimize_result(\n",
      "C:\\Users\\User\\anaconda3\\lib\\site-packages\\sklearn\\linear_model\\_logistic.py:1483: UserWarning: Setting penalty='none' will ignore the C and l1_ratio parameters\n",
      "  warnings.warn(\n",
      "C:\\Users\\User\\anaconda3\\lib\\site-packages\\sklearn\\linear_model\\_logistic.py:814: ConvergenceWarning: lbfgs failed to converge (status=1):\n",
      "STOP: TOTAL NO. of ITERATIONS REACHED LIMIT.\n",
      "\n",
      "Increase the number of iterations (max_iter) or scale the data as shown in:\n",
      "    https://scikit-learn.org/stable/modules/preprocessing.html\n",
      "Please also refer to the documentation for alternative solver options:\n",
      "    https://scikit-learn.org/stable/modules/linear_model.html#logistic-regression\n",
      "  n_iter_i = _check_optimize_result(\n",
      "C:\\Users\\User\\anaconda3\\lib\\site-packages\\sklearn\\linear_model\\_logistic.py:1483: UserWarning: Setting penalty='none' will ignore the C and l1_ratio parameters\n",
      "  warnings.warn(\n",
      "C:\\Users\\User\\anaconda3\\lib\\site-packages\\sklearn\\linear_model\\_logistic.py:814: ConvergenceWarning: lbfgs failed to converge (status=1):\n",
      "STOP: TOTAL NO. of ITERATIONS REACHED LIMIT.\n",
      "\n",
      "Increase the number of iterations (max_iter) or scale the data as shown in:\n",
      "    https://scikit-learn.org/stable/modules/preprocessing.html\n",
      "Please also refer to the documentation for alternative solver options:\n",
      "    https://scikit-learn.org/stable/modules/linear_model.html#logistic-regression\n",
      "  n_iter_i = _check_optimize_result(\n",
      "C:\\Users\\User\\anaconda3\\lib\\site-packages\\sklearn\\linear_model\\_logistic.py:1483: UserWarning: Setting penalty='none' will ignore the C and l1_ratio parameters\n",
      "  warnings.warn(\n",
      "C:\\Users\\User\\anaconda3\\lib\\site-packages\\sklearn\\linear_model\\_logistic.py:814: ConvergenceWarning: lbfgs failed to converge (status=1):\n",
      "STOP: TOTAL NO. of ITERATIONS REACHED LIMIT.\n",
      "\n",
      "Increase the number of iterations (max_iter) or scale the data as shown in:\n",
      "    https://scikit-learn.org/stable/modules/preprocessing.html\n",
      "Please also refer to the documentation for alternative solver options:\n",
      "    https://scikit-learn.org/stable/modules/linear_model.html#logistic-regression\n",
      "  n_iter_i = _check_optimize_result(\n",
      "C:\\Users\\User\\anaconda3\\lib\\site-packages\\sklearn\\linear_model\\_logistic.py:1483: UserWarning: Setting penalty='none' will ignore the C and l1_ratio parameters\n",
      "  warnings.warn(\n",
      "C:\\Users\\User\\anaconda3\\lib\\site-packages\\sklearn\\linear_model\\_logistic.py:814: ConvergenceWarning: lbfgs failed to converge (status=1):\n",
      "STOP: TOTAL NO. of ITERATIONS REACHED LIMIT.\n",
      "\n",
      "Increase the number of iterations (max_iter) or scale the data as shown in:\n",
      "    https://scikit-learn.org/stable/modules/preprocessing.html\n",
      "Please also refer to the documentation for alternative solver options:\n",
      "    https://scikit-learn.org/stable/modules/linear_model.html#logistic-regression\n",
      "  n_iter_i = _check_optimize_result(\n",
      "C:\\Users\\User\\anaconda3\\lib\\site-packages\\sklearn\\linear_model\\_logistic.py:1483: UserWarning: Setting penalty='none' will ignore the C and l1_ratio parameters\n",
      "  warnings.warn(\n",
      "C:\\Users\\User\\anaconda3\\lib\\site-packages\\sklearn\\linear_model\\_logistic.py:814: ConvergenceWarning: lbfgs failed to converge (status=1):\n",
      "STOP: TOTAL NO. of ITERATIONS REACHED LIMIT.\n",
      "\n",
      "Increase the number of iterations (max_iter) or scale the data as shown in:\n",
      "    https://scikit-learn.org/stable/modules/preprocessing.html\n",
      "Please also refer to the documentation for alternative solver options:\n",
      "    https://scikit-learn.org/stable/modules/linear_model.html#logistic-regression\n",
      "  n_iter_i = _check_optimize_result(\n",
      "C:\\Users\\User\\anaconda3\\lib\\site-packages\\sklearn\\linear_model\\_logistic.py:1483: UserWarning: Setting penalty='none' will ignore the C and l1_ratio parameters\n",
      "  warnings.warn(\n",
      "C:\\Users\\User\\anaconda3\\lib\\site-packages\\sklearn\\linear_model\\_logistic.py:814: ConvergenceWarning: lbfgs failed to converge (status=1):\n",
      "STOP: TOTAL NO. of ITERATIONS REACHED LIMIT.\n",
      "\n",
      "Increase the number of iterations (max_iter) or scale the data as shown in:\n",
      "    https://scikit-learn.org/stable/modules/preprocessing.html\n",
      "Please also refer to the documentation for alternative solver options:\n",
      "    https://scikit-learn.org/stable/modules/linear_model.html#logistic-regression\n",
      "  n_iter_i = _check_optimize_result(\n",
      "C:\\Users\\User\\anaconda3\\lib\\site-packages\\sklearn\\linear_model\\_logistic.py:814: ConvergenceWarning: lbfgs failed to converge (status=1):\n",
      "STOP: TOTAL NO. of ITERATIONS REACHED LIMIT.\n",
      "\n",
      "Increase the number of iterations (max_iter) or scale the data as shown in:\n",
      "    https://scikit-learn.org/stable/modules/preprocessing.html\n",
      "Please also refer to the documentation for alternative solver options:\n",
      "    https://scikit-learn.org/stable/modules/linear_model.html#logistic-regression\n",
      "  n_iter_i = _check_optimize_result(\n",
      "C:\\Users\\User\\anaconda3\\lib\\site-packages\\sklearn\\linear_model\\_logistic.py:814: ConvergenceWarning: lbfgs failed to converge (status=1):\n",
      "STOP: TOTAL NO. of ITERATIONS REACHED LIMIT.\n",
      "\n",
      "Increase the number of iterations (max_iter) or scale the data as shown in:\n",
      "    https://scikit-learn.org/stable/modules/preprocessing.html\n",
      "Please also refer to the documentation for alternative solver options:\n",
      "    https://scikit-learn.org/stable/modules/linear_model.html#logistic-regression\n",
      "  n_iter_i = _check_optimize_result(\n"
     ]
    },
    {
     "name": "stderr",
     "output_type": "stream",
     "text": [
      "C:\\Users\\User\\anaconda3\\lib\\site-packages\\sklearn\\linear_model\\_logistic.py:814: ConvergenceWarning: lbfgs failed to converge (status=1):\n",
      "STOP: TOTAL NO. of ITERATIONS REACHED LIMIT.\n",
      "\n",
      "Increase the number of iterations (max_iter) or scale the data as shown in:\n",
      "    https://scikit-learn.org/stable/modules/preprocessing.html\n",
      "Please also refer to the documentation for alternative solver options:\n",
      "    https://scikit-learn.org/stable/modules/linear_model.html#logistic-regression\n",
      "  n_iter_i = _check_optimize_result(\n",
      "C:\\Users\\User\\anaconda3\\lib\\site-packages\\sklearn\\linear_model\\_logistic.py:814: ConvergenceWarning: lbfgs failed to converge (status=1):\n",
      "STOP: TOTAL NO. of ITERATIONS REACHED LIMIT.\n",
      "\n",
      "Increase the number of iterations (max_iter) or scale the data as shown in:\n",
      "    https://scikit-learn.org/stable/modules/preprocessing.html\n",
      "Please also refer to the documentation for alternative solver options:\n",
      "    https://scikit-learn.org/stable/modules/linear_model.html#logistic-regression\n",
      "  n_iter_i = _check_optimize_result(\n",
      "C:\\Users\\User\\anaconda3\\lib\\site-packages\\sklearn\\linear_model\\_logistic.py:814: ConvergenceWarning: lbfgs failed to converge (status=1):\n",
      "STOP: TOTAL NO. of ITERATIONS REACHED LIMIT.\n",
      "\n",
      "Increase the number of iterations (max_iter) or scale the data as shown in:\n",
      "    https://scikit-learn.org/stable/modules/preprocessing.html\n",
      "Please also refer to the documentation for alternative solver options:\n",
      "    https://scikit-learn.org/stable/modules/linear_model.html#logistic-regression\n",
      "  n_iter_i = _check_optimize_result(\n",
      "C:\\Users\\User\\anaconda3\\lib\\site-packages\\sklearn\\linear_model\\_logistic.py:814: ConvergenceWarning: lbfgs failed to converge (status=1):\n",
      "STOP: TOTAL NO. of ITERATIONS REACHED LIMIT.\n",
      "\n",
      "Increase the number of iterations (max_iter) or scale the data as shown in:\n",
      "    https://scikit-learn.org/stable/modules/preprocessing.html\n",
      "Please also refer to the documentation for alternative solver options:\n",
      "    https://scikit-learn.org/stable/modules/linear_model.html#logistic-regression\n",
      "  n_iter_i = _check_optimize_result(\n",
      "C:\\Users\\User\\anaconda3\\lib\\site-packages\\sklearn\\linear_model\\_logistic.py:814: ConvergenceWarning: lbfgs failed to converge (status=1):\n",
      "STOP: TOTAL NO. of ITERATIONS REACHED LIMIT.\n",
      "\n",
      "Increase the number of iterations (max_iter) or scale the data as shown in:\n",
      "    https://scikit-learn.org/stable/modules/preprocessing.html\n",
      "Please also refer to the documentation for alternative solver options:\n",
      "    https://scikit-learn.org/stable/modules/linear_model.html#logistic-regression\n",
      "  n_iter_i = _check_optimize_result(\n",
      "C:\\Users\\User\\anaconda3\\lib\\site-packages\\sklearn\\linear_model\\_logistic.py:814: ConvergenceWarning: lbfgs failed to converge (status=1):\n",
      "STOP: TOTAL NO. of ITERATIONS REACHED LIMIT.\n",
      "\n",
      "Increase the number of iterations (max_iter) or scale the data as shown in:\n",
      "    https://scikit-learn.org/stable/modules/preprocessing.html\n",
      "Please also refer to the documentation for alternative solver options:\n",
      "    https://scikit-learn.org/stable/modules/linear_model.html#logistic-regression\n",
      "  n_iter_i = _check_optimize_result(\n",
      "C:\\Users\\User\\anaconda3\\lib\\site-packages\\sklearn\\linear_model\\_logistic.py:814: ConvergenceWarning: lbfgs failed to converge (status=1):\n",
      "STOP: TOTAL NO. of ITERATIONS REACHED LIMIT.\n",
      "\n",
      "Increase the number of iterations (max_iter) or scale the data as shown in:\n",
      "    https://scikit-learn.org/stable/modules/preprocessing.html\n",
      "Please also refer to the documentation for alternative solver options:\n",
      "    https://scikit-learn.org/stable/modules/linear_model.html#logistic-regression\n",
      "  n_iter_i = _check_optimize_result(\n",
      "C:\\Users\\User\\anaconda3\\lib\\site-packages\\sklearn\\linear_model\\_logistic.py:814: ConvergenceWarning: lbfgs failed to converge (status=1):\n",
      "STOP: TOTAL NO. of ITERATIONS REACHED LIMIT.\n",
      "\n",
      "Increase the number of iterations (max_iter) or scale the data as shown in:\n",
      "    https://scikit-learn.org/stable/modules/preprocessing.html\n",
      "Please also refer to the documentation for alternative solver options:\n",
      "    https://scikit-learn.org/stable/modules/linear_model.html#logistic-regression\n",
      "  n_iter_i = _check_optimize_result(\n",
      "C:\\Users\\User\\anaconda3\\lib\\site-packages\\sklearn\\linear_model\\_logistic.py:814: ConvergenceWarning: lbfgs failed to converge (status=1):\n",
      "STOP: TOTAL NO. of ITERATIONS REACHED LIMIT.\n",
      "\n",
      "Increase the number of iterations (max_iter) or scale the data as shown in:\n",
      "    https://scikit-learn.org/stable/modules/preprocessing.html\n",
      "Please also refer to the documentation for alternative solver options:\n",
      "    https://scikit-learn.org/stable/modules/linear_model.html#logistic-regression\n",
      "  n_iter_i = _check_optimize_result(\n",
      "C:\\Users\\User\\anaconda3\\lib\\site-packages\\sklearn\\linear_model\\_logistic.py:814: ConvergenceWarning: lbfgs failed to converge (status=1):\n",
      "STOP: TOTAL NO. of ITERATIONS REACHED LIMIT.\n",
      "\n",
      "Increase the number of iterations (max_iter) or scale the data as shown in:\n",
      "    https://scikit-learn.org/stable/modules/preprocessing.html\n",
      "Please also refer to the documentation for alternative solver options:\n",
      "    https://scikit-learn.org/stable/modules/linear_model.html#logistic-regression\n",
      "  n_iter_i = _check_optimize_result(\n",
      "C:\\Users\\User\\anaconda3\\lib\\site-packages\\sklearn\\linear_model\\_logistic.py:814: ConvergenceWarning: lbfgs failed to converge (status=1):\n",
      "STOP: TOTAL NO. of ITERATIONS REACHED LIMIT.\n",
      "\n",
      "Increase the number of iterations (max_iter) or scale the data as shown in:\n",
      "    https://scikit-learn.org/stable/modules/preprocessing.html\n",
      "Please also refer to the documentation for alternative solver options:\n",
      "    https://scikit-learn.org/stable/modules/linear_model.html#logistic-regression\n",
      "  n_iter_i = _check_optimize_result(\n",
      "C:\\Users\\User\\anaconda3\\lib\\site-packages\\sklearn\\linear_model\\_logistic.py:814: ConvergenceWarning: lbfgs failed to converge (status=1):\n",
      "STOP: TOTAL NO. of ITERATIONS REACHED LIMIT.\n",
      "\n",
      "Increase the number of iterations (max_iter) or scale the data as shown in:\n",
      "    https://scikit-learn.org/stable/modules/preprocessing.html\n",
      "Please also refer to the documentation for alternative solver options:\n",
      "    https://scikit-learn.org/stable/modules/linear_model.html#logistic-regression\n",
      "  n_iter_i = _check_optimize_result(\n",
      "C:\\Users\\User\\anaconda3\\lib\\site-packages\\sklearn\\linear_model\\_logistic.py:814: ConvergenceWarning: lbfgs failed to converge (status=1):\n",
      "STOP: TOTAL NO. of ITERATIONS REACHED LIMIT.\n",
      "\n",
      "Increase the number of iterations (max_iter) or scale the data as shown in:\n",
      "    https://scikit-learn.org/stable/modules/preprocessing.html\n",
      "Please also refer to the documentation for alternative solver options:\n",
      "    https://scikit-learn.org/stable/modules/linear_model.html#logistic-regression\n",
      "  n_iter_i = _check_optimize_result(\n",
      "C:\\Users\\User\\anaconda3\\lib\\site-packages\\sklearn\\linear_model\\_logistic.py:814: ConvergenceWarning: lbfgs failed to converge (status=1):\n",
      "STOP: TOTAL NO. of ITERATIONS REACHED LIMIT.\n",
      "\n",
      "Increase the number of iterations (max_iter) or scale the data as shown in:\n",
      "    https://scikit-learn.org/stable/modules/preprocessing.html\n",
      "Please also refer to the documentation for alternative solver options:\n",
      "    https://scikit-learn.org/stable/modules/linear_model.html#logistic-regression\n",
      "  n_iter_i = _check_optimize_result(\n",
      "C:\\Users\\User\\anaconda3\\lib\\site-packages\\sklearn\\linear_model\\_logistic.py:814: ConvergenceWarning: lbfgs failed to converge (status=1):\n",
      "STOP: TOTAL NO. of ITERATIONS REACHED LIMIT.\n",
      "\n",
      "Increase the number of iterations (max_iter) or scale the data as shown in:\n",
      "    https://scikit-learn.org/stable/modules/preprocessing.html\n",
      "Please also refer to the documentation for alternative solver options:\n",
      "    https://scikit-learn.org/stable/modules/linear_model.html#logistic-regression\n",
      "  n_iter_i = _check_optimize_result(\n",
      "C:\\Users\\User\\anaconda3\\lib\\site-packages\\sklearn\\linear_model\\_logistic.py:814: ConvergenceWarning: lbfgs failed to converge (status=1):\n",
      "STOP: TOTAL NO. of ITERATIONS REACHED LIMIT.\n",
      "\n",
      "Increase the number of iterations (max_iter) or scale the data as shown in:\n",
      "    https://scikit-learn.org/stable/modules/preprocessing.html\n",
      "Please also refer to the documentation for alternative solver options:\n",
      "    https://scikit-learn.org/stable/modules/linear_model.html#logistic-regression\n",
      "  n_iter_i = _check_optimize_result(\n"
     ]
    },
    {
     "name": "stderr",
     "output_type": "stream",
     "text": [
      "C:\\Users\\User\\anaconda3\\lib\\site-packages\\sklearn\\linear_model\\_logistic.py:814: ConvergenceWarning: lbfgs failed to converge (status=1):\n",
      "STOP: TOTAL NO. of ITERATIONS REACHED LIMIT.\n",
      "\n",
      "Increase the number of iterations (max_iter) or scale the data as shown in:\n",
      "    https://scikit-learn.org/stable/modules/preprocessing.html\n",
      "Please also refer to the documentation for alternative solver options:\n",
      "    https://scikit-learn.org/stable/modules/linear_model.html#logistic-regression\n",
      "  n_iter_i = _check_optimize_result(\n",
      "C:\\Users\\User\\anaconda3\\lib\\site-packages\\sklearn\\linear_model\\_logistic.py:814: ConvergenceWarning: lbfgs failed to converge (status=1):\n",
      "STOP: TOTAL NO. of ITERATIONS REACHED LIMIT.\n",
      "\n",
      "Increase the number of iterations (max_iter) or scale the data as shown in:\n",
      "    https://scikit-learn.org/stable/modules/preprocessing.html\n",
      "Please also refer to the documentation for alternative solver options:\n",
      "    https://scikit-learn.org/stable/modules/linear_model.html#logistic-regression\n",
      "  n_iter_i = _check_optimize_result(\n",
      "C:\\Users\\User\\anaconda3\\lib\\site-packages\\sklearn\\linear_model\\_logistic.py:814: ConvergenceWarning: lbfgs failed to converge (status=1):\n",
      "STOP: TOTAL NO. of ITERATIONS REACHED LIMIT.\n",
      "\n",
      "Increase the number of iterations (max_iter) or scale the data as shown in:\n",
      "    https://scikit-learn.org/stable/modules/preprocessing.html\n",
      "Please also refer to the documentation for alternative solver options:\n",
      "    https://scikit-learn.org/stable/modules/linear_model.html#logistic-regression\n",
      "  n_iter_i = _check_optimize_result(\n",
      "C:\\Users\\User\\anaconda3\\lib\\site-packages\\sklearn\\linear_model\\_logistic.py:814: ConvergenceWarning: lbfgs failed to converge (status=1):\n",
      "STOP: TOTAL NO. of ITERATIONS REACHED LIMIT.\n",
      "\n",
      "Increase the number of iterations (max_iter) or scale the data as shown in:\n",
      "    https://scikit-learn.org/stable/modules/preprocessing.html\n",
      "Please also refer to the documentation for alternative solver options:\n",
      "    https://scikit-learn.org/stable/modules/linear_model.html#logistic-regression\n",
      "  n_iter_i = _check_optimize_result(\n",
      "C:\\Users\\User\\anaconda3\\lib\\site-packages\\sklearn\\linear_model\\_logistic.py:814: ConvergenceWarning: lbfgs failed to converge (status=1):\n",
      "STOP: TOTAL NO. of ITERATIONS REACHED LIMIT.\n",
      "\n",
      "Increase the number of iterations (max_iter) or scale the data as shown in:\n",
      "    https://scikit-learn.org/stable/modules/preprocessing.html\n",
      "Please also refer to the documentation for alternative solver options:\n",
      "    https://scikit-learn.org/stable/modules/linear_model.html#logistic-regression\n",
      "  n_iter_i = _check_optimize_result(\n",
      "C:\\Users\\User\\anaconda3\\lib\\site-packages\\sklearn\\linear_model\\_logistic.py:814: ConvergenceWarning: lbfgs failed to converge (status=1):\n",
      "STOP: TOTAL NO. of ITERATIONS REACHED LIMIT.\n",
      "\n",
      "Increase the number of iterations (max_iter) or scale the data as shown in:\n",
      "    https://scikit-learn.org/stable/modules/preprocessing.html\n",
      "Please also refer to the documentation for alternative solver options:\n",
      "    https://scikit-learn.org/stable/modules/linear_model.html#logistic-regression\n",
      "  n_iter_i = _check_optimize_result(\n",
      "C:\\Users\\User\\anaconda3\\lib\\site-packages\\sklearn\\linear_model\\_logistic.py:814: ConvergenceWarning: lbfgs failed to converge (status=1):\n",
      "STOP: TOTAL NO. of ITERATIONS REACHED LIMIT.\n",
      "\n",
      "Increase the number of iterations (max_iter) or scale the data as shown in:\n",
      "    https://scikit-learn.org/stable/modules/preprocessing.html\n",
      "Please also refer to the documentation for alternative solver options:\n",
      "    https://scikit-learn.org/stable/modules/linear_model.html#logistic-regression\n",
      "  n_iter_i = _check_optimize_result(\n",
      "C:\\Users\\User\\anaconda3\\lib\\site-packages\\sklearn\\linear_model\\_logistic.py:814: ConvergenceWarning: lbfgs failed to converge (status=1):\n",
      "STOP: TOTAL NO. of ITERATIONS REACHED LIMIT.\n",
      "\n",
      "Increase the number of iterations (max_iter) or scale the data as shown in:\n",
      "    https://scikit-learn.org/stable/modules/preprocessing.html\n",
      "Please also refer to the documentation for alternative solver options:\n",
      "    https://scikit-learn.org/stable/modules/linear_model.html#logistic-regression\n",
      "  n_iter_i = _check_optimize_result(\n",
      "C:\\Users\\User\\anaconda3\\lib\\site-packages\\sklearn\\linear_model\\_logistic.py:814: ConvergenceWarning: lbfgs failed to converge (status=1):\n",
      "STOP: TOTAL NO. of ITERATIONS REACHED LIMIT.\n",
      "\n",
      "Increase the number of iterations (max_iter) or scale the data as shown in:\n",
      "    https://scikit-learn.org/stable/modules/preprocessing.html\n",
      "Please also refer to the documentation for alternative solver options:\n",
      "    https://scikit-learn.org/stable/modules/linear_model.html#logistic-regression\n",
      "  n_iter_i = _check_optimize_result(\n",
      "C:\\Users\\User\\anaconda3\\lib\\site-packages\\sklearn\\model_selection\\_validation.py:372: FitFailedWarning: \n",
      "90 fits failed out of a total of 180.\n",
      "The score on these train-test partitions for these parameters will be set to nan.\n",
      "If these failures are not expected, you can try to debug them by setting error_score='raise'.\n",
      "\n",
      "Below are more details about the failures:\n",
      "--------------------------------------------------------------------------------\n",
      "45 fits failed with the following error:\n",
      "Traceback (most recent call last):\n",
      "  File \"C:\\Users\\User\\anaconda3\\lib\\site-packages\\sklearn\\model_selection\\_validation.py\", line 680, in _fit_and_score\n",
      "    estimator.fit(X_train, y_train, **fit_params)\n",
      "  File \"C:\\Users\\User\\anaconda3\\lib\\site-packages\\sklearn\\pipeline.py\", line 394, in fit\n",
      "    self._final_estimator.fit(Xt, y, **fit_params_last_step)\n",
      "  File \"C:\\Users\\User\\anaconda3\\lib\\site-packages\\sklearn\\linear_model\\_logistic.py\", line 1461, in fit\n",
      "    solver = _check_solver(self.solver, self.penalty, self.dual)\n",
      "  File \"C:\\Users\\User\\anaconda3\\lib\\site-packages\\sklearn\\linear_model\\_logistic.py\", line 447, in _check_solver\n",
      "    raise ValueError(\n",
      "ValueError: Solver lbfgs supports only 'l2' or 'none' penalties, got l1 penalty.\n",
      "\n",
      "--------------------------------------------------------------------------------\n",
      "45 fits failed with the following error:\n",
      "Traceback (most recent call last):\n",
      "  File \"C:\\Users\\User\\anaconda3\\lib\\site-packages\\sklearn\\model_selection\\_validation.py\", line 680, in _fit_and_score\n",
      "    estimator.fit(X_train, y_train, **fit_params)\n",
      "  File \"C:\\Users\\User\\anaconda3\\lib\\site-packages\\sklearn\\pipeline.py\", line 394, in fit\n",
      "    self._final_estimator.fit(Xt, y, **fit_params_last_step)\n",
      "  File \"C:\\Users\\User\\anaconda3\\lib\\site-packages\\sklearn\\linear_model\\_logistic.py\", line 1461, in fit\n",
      "    solver = _check_solver(self.solver, self.penalty, self.dual)\n",
      "  File \"C:\\Users\\User\\anaconda3\\lib\\site-packages\\sklearn\\linear_model\\_logistic.py\", line 447, in _check_solver\n",
      "    raise ValueError(\n",
      "ValueError: Solver lbfgs supports only 'l2' or 'none' penalties, got elasticnet penalty.\n",
      "\n",
      "  warnings.warn(some_fits_failed_message, FitFailedWarning)\n",
      "C:\\Users\\User\\anaconda3\\lib\\site-packages\\sklearn\\model_selection\\_search.py:969: UserWarning: One or more of the test scores are non-finite: [       nan        nan        nan 0.97179458 0.86318891 0.55964011\n",
      "        nan        nan        nan 0.97930733 0.97983547 0.97917627\n",
      "        nan        nan        nan 0.97970242 0.94187578 0.63344954\n",
      "        nan        nan        nan 0.97930733 0.97983547 0.97917627\n",
      "        nan        nan        nan 0.97930698 0.97667168 0.82957826\n",
      "        nan        nan        nan 0.97930733 0.97983547 0.97917627]\n",
      "  warnings.warn(\n",
      "C:\\Users\\User\\anaconda3\\lib\\site-packages\\sklearn\\linear_model\\_logistic.py:1483: UserWarning: Setting penalty='none' will ignore the C and l1_ratio parameters\n",
      "  warnings.warn(\n",
      "C:\\Users\\User\\anaconda3\\lib\\site-packages\\sklearn\\linear_model\\_logistic.py:814: ConvergenceWarning: lbfgs failed to converge (status=1):\n",
      "STOP: TOTAL NO. of ITERATIONS REACHED LIMIT.\n",
      "\n",
      "Increase the number of iterations (max_iter) or scale the data as shown in:\n",
      "    https://scikit-learn.org/stable/modules/preprocessing.html\n",
      "Please also refer to the documentation for alternative solver options:\n",
      "    https://scikit-learn.org/stable/modules/linear_model.html#logistic-regression\n",
      "  n_iter_i = _check_optimize_result(\n"
     ]
    }
   ],
   "source": [
    "pipelines = [dt_pipeline, rf_pipeline, knn_pipeline, svm_pipeline, lr_pipeline]\n",
    "pipeline_params = [dt_pipeline_params, rf_pipeline_params, knn_pipeline_params, svm_pipeline_params, lr_pipeline_params]\n",
    "\n",
    "best_classifiers_validation_results = {\n",
    "    0: (\"Decision Tree\", {}),\n",
    "    1: (\"Random Forest\", {}),\n",
    "    2: (\"K-Nearest Neighbors\", {}),\n",
    "    3: (\"Support Vector Machine\", {}),\n",
    "    4: (\"Logistic Regression\", {})\n",
    "}\n",
    "\n",
    "for i in range(len(pipelines)):\n",
    "    print(best_classifiers_validation_results[i][0])\n",
    "    grid_cv = GridSearchCV(pipelines[i], pipeline_params[i])\n",
    "    grid_cv.fit(encoded_X_train, encoded_y_train)\n",
    "    encoded_pred_labels = grid_cv.predict(encoded_X_valid)\n",
    "    accuracy = accuracy_score(encoded_y_valid, encoded_pred_labels)\n",
    "    balanced_accuracy = balanced_accuracy_score(encoded_y_valid, encoded_pred_labels)\n",
    "    precision = precision_score(encoded_y_valid, encoded_pred_labels, average=None)\n",
    "    recall = recall_score(encoded_y_valid, encoded_pred_labels, average=None)\n",
    "    f_1 = f1_score(encoded_y_valid, encoded_pred_labels, average=None)\n",
    "    best_classifiers_validation_results[i][1][\"Best Params\"] = grid_cv.best_params_\n",
    "    best_classifiers_validation_results[i][1][\"Accuracy\"] = accuracy\n",
    "    best_classifiers_validation_results[i][1][\"Balanced Accuracy\"] = balanced_accuracy\n",
    "    best_classifiers_validation_results[i][1][\"Precision\"] = precision\n",
    "    best_classifiers_validation_results[i][1][\"Recall\"] = recall\n",
    "    best_classifiers_validation_results[i][1][\"F1\"] = f_1"
   ]
  },
  {
   "cell_type": "code",
   "execution_count": 32,
   "id": "338a5bdc",
   "metadata": {
    "scrolled": false
   },
   "outputs": [
    {
     "data": {
      "text/plain": [
       "{0: ('Decision Tree',\n",
       "  {'Best Params': {'clf': DecisionTreeClassifier(min_samples_leaf=2, random_state=35),\n",
       "    'transformer': 'passthrough'},\n",
       "   'Accuracy': 0.9835294117647059,\n",
       "   'Balanced Accuracy': 0.9553390577529873,\n",
       "   'Precision': array([0.80392157, 0.99166667, 0.98611111]),\n",
       "   'Recall': array([0.91111111, 0.98891967, 0.96598639]),\n",
       "   'F1': array([0.85416667, 0.99029126, 0.97594502])}),\n",
       " 1: ('Random Forest',\n",
       "  {'Best Params': {'clf': RandomForestClassifier(bootstrap=False, criterion='entropy',\n",
       "                           min_samples_split=5, random_state=35),\n",
       "    'transformer': 'passthrough'},\n",
       "   'Accuracy': 0.9874509803921568,\n",
       "   'Balanced Accuracy': 0.9769565936562374,\n",
       "   'Precision': array([0.86      , 0.99627907, 0.96666667]),\n",
       "   'Recall': array([0.95555556, 0.98891967, 0.98639456]),\n",
       "   'F1': array([0.90526316, 0.99258573, 0.97643098])}),\n",
       " 2: ('K-Nearest Neighbors',\n",
       "  {'Best Params': {'clf': KNeighborsClassifier(algorithm='ball_tree', metric='manhattan', n_neighbors=1),\n",
       "    'transformer': Normalizer()},\n",
       "   'Accuracy': 0.9529411764705882,\n",
       "   'Balanced Accuracy': 0.9516552450466182,\n",
       "   'Precision': array([0.62318841, 0.99041227, 0.85276074]),\n",
       "   'Recall': array([0.95555556, 0.95383195, 0.94557823]),\n",
       "   'F1': array([0.75438596, 0.97177799, 0.89677419])}),\n",
       " 3: ('Support Vector Machine',\n",
       "  {'Best Params': {'clf': SVC(kernel='linear'), 'transformer': 'passthrough'},\n",
       "   'Accuracy': 0.9545098039215686,\n",
       "   'Balanced Accuracy': 0.9640295391779365,\n",
       "   'Precision': array([0.57333333, 0.99612778, 0.86826347]),\n",
       "   'Recall': array([0.95555556, 0.9501385 , 0.98639456]),\n",
       "   'F1': array([0.71666667, 0.97258979, 0.92356688])}),\n",
       " 4: ('Logistic Regression',\n",
       "  {'Best Params': {'clf': LogisticRegression(C=0.01, penalty='none'),\n",
       "    'transformer': StandardScaler()},\n",
       "   'Accuracy': 0.9607843137254902,\n",
       "   'Balanced Accuracy': 0.9606124752147704,\n",
       "   'Precision': array([0.62318841, 0.99331423, 0.89308176]),\n",
       "   'Recall': array([0.95555556, 0.96029548, 0.96598639]),\n",
       "   'F1': array([0.75438596, 0.97652582, 0.92810458])})}"
      ]
     },
     "execution_count": 32,
     "metadata": {},
     "output_type": "execute_result"
    }
   ],
   "source": [
    "best_classifiers_validation_results"
   ]
  },
  {
   "cell_type": "markdown",
   "id": "994147e7",
   "metadata": {},
   "source": [
    "For this cell, the same is used but instead of using `Normalizer`, `normalize` is used that normalises the data along the features rather than along the samples."
   ]
  },
  {
   "cell_type": "code",
   "execution_count": 33,
   "id": "008976da",
   "metadata": {},
   "outputs": [
    {
     "name": "stderr",
     "output_type": "stream",
     "text": [
      "C:\\Users\\User\\anaconda3\\lib\\site-packages\\sklearn\\metrics\\_classification.py:1318: UndefinedMetricWarning: Precision is ill-defined and being set to 0.0 in labels with no predicted samples. Use `zero_division` parameter to control this behavior.\n",
      "  _warn_prf(average, modifier, msg_start, len(result))\n",
      "C:\\Users\\User\\anaconda3\\lib\\site-packages\\sklearn\\linear_model\\_logistic.py:1483: UserWarning: Setting penalty='none' will ignore the C and l1_ratio parameters\n",
      "  warnings.warn(\n",
      "C:\\Users\\User\\anaconda3\\lib\\site-packages\\sklearn\\linear_model\\_logistic.py:814: ConvergenceWarning: lbfgs failed to converge (status=1):\n",
      "STOP: TOTAL NO. of ITERATIONS REACHED LIMIT.\n",
      "\n",
      "Increase the number of iterations (max_iter) or scale the data as shown in:\n",
      "    https://scikit-learn.org/stable/modules/preprocessing.html\n",
      "Please also refer to the documentation for alternative solver options:\n",
      "    https://scikit-learn.org/stable/modules/linear_model.html#logistic-regression\n",
      "  n_iter_i = _check_optimize_result(\n",
      "C:\\Users\\User\\anaconda3\\lib\\site-packages\\sklearn\\linear_model\\_logistic.py:1483: UserWarning: Setting penalty='none' will ignore the C and l1_ratio parameters\n",
      "  warnings.warn(\n",
      "C:\\Users\\User\\anaconda3\\lib\\site-packages\\sklearn\\linear_model\\_logistic.py:814: ConvergenceWarning: lbfgs failed to converge (status=1):\n",
      "STOP: TOTAL NO. of ITERATIONS REACHED LIMIT.\n",
      "\n",
      "Increase the number of iterations (max_iter) or scale the data as shown in:\n",
      "    https://scikit-learn.org/stable/modules/preprocessing.html\n",
      "Please also refer to the documentation for alternative solver options:\n",
      "    https://scikit-learn.org/stable/modules/linear_model.html#logistic-regression\n",
      "  n_iter_i = _check_optimize_result(\n",
      "C:\\Users\\User\\anaconda3\\lib\\site-packages\\sklearn\\linear_model\\_logistic.py:1483: UserWarning: Setting penalty='none' will ignore the C and l1_ratio parameters\n",
      "  warnings.warn(\n",
      "C:\\Users\\User\\anaconda3\\lib\\site-packages\\sklearn\\linear_model\\_logistic.py:814: ConvergenceWarning: lbfgs failed to converge (status=1):\n",
      "STOP: TOTAL NO. of ITERATIONS REACHED LIMIT.\n",
      "\n",
      "Increase the number of iterations (max_iter) or scale the data as shown in:\n",
      "    https://scikit-learn.org/stable/modules/preprocessing.html\n",
      "Please also refer to the documentation for alternative solver options:\n",
      "    https://scikit-learn.org/stable/modules/linear_model.html#logistic-regression\n",
      "  n_iter_i = _check_optimize_result(\n",
      "C:\\Users\\User\\anaconda3\\lib\\site-packages\\sklearn\\linear_model\\_logistic.py:1483: UserWarning: Setting penalty='none' will ignore the C and l1_ratio parameters\n",
      "  warnings.warn(\n",
      "C:\\Users\\User\\anaconda3\\lib\\site-packages\\sklearn\\linear_model\\_logistic.py:814: ConvergenceWarning: lbfgs failed to converge (status=1):\n",
      "STOP: TOTAL NO. of ITERATIONS REACHED LIMIT.\n",
      "\n",
      "Increase the number of iterations (max_iter) or scale the data as shown in:\n",
      "    https://scikit-learn.org/stable/modules/preprocessing.html\n",
      "Please also refer to the documentation for alternative solver options:\n",
      "    https://scikit-learn.org/stable/modules/linear_model.html#logistic-regression\n",
      "  n_iter_i = _check_optimize_result(\n",
      "C:\\Users\\User\\anaconda3\\lib\\site-packages\\sklearn\\linear_model\\_logistic.py:1483: UserWarning: Setting penalty='none' will ignore the C and l1_ratio parameters\n",
      "  warnings.warn(\n",
      "C:\\Users\\User\\anaconda3\\lib\\site-packages\\sklearn\\linear_model\\_logistic.py:814: ConvergenceWarning: lbfgs failed to converge (status=1):\n",
      "STOP: TOTAL NO. of ITERATIONS REACHED LIMIT.\n",
      "\n",
      "Increase the number of iterations (max_iter) or scale the data as shown in:\n",
      "    https://scikit-learn.org/stable/modules/preprocessing.html\n",
      "Please also refer to the documentation for alternative solver options:\n",
      "    https://scikit-learn.org/stable/modules/linear_model.html#logistic-regression\n",
      "  n_iter_i = _check_optimize_result(\n",
      "C:\\Users\\User\\anaconda3\\lib\\site-packages\\sklearn\\linear_model\\_logistic.py:1483: UserWarning: Setting penalty='none' will ignore the C and l1_ratio parameters\n",
      "  warnings.warn(\n",
      "C:\\Users\\User\\anaconda3\\lib\\site-packages\\sklearn\\linear_model\\_logistic.py:814: ConvergenceWarning: lbfgs failed to converge (status=1):\n",
      "STOP: TOTAL NO. of ITERATIONS REACHED LIMIT.\n",
      "\n",
      "Increase the number of iterations (max_iter) or scale the data as shown in:\n",
      "    https://scikit-learn.org/stable/modules/preprocessing.html\n",
      "Please also refer to the documentation for alternative solver options:\n",
      "    https://scikit-learn.org/stable/modules/linear_model.html#logistic-regression\n",
      "  n_iter_i = _check_optimize_result(\n",
      "C:\\Users\\User\\anaconda3\\lib\\site-packages\\sklearn\\linear_model\\_logistic.py:1483: UserWarning: Setting penalty='none' will ignore the C and l1_ratio parameters\n",
      "  warnings.warn(\n",
      "C:\\Users\\User\\anaconda3\\lib\\site-packages\\sklearn\\linear_model\\_logistic.py:814: ConvergenceWarning: lbfgs failed to converge (status=1):\n",
      "STOP: TOTAL NO. of ITERATIONS REACHED LIMIT.\n",
      "\n",
      "Increase the number of iterations (max_iter) or scale the data as shown in:\n",
      "    https://scikit-learn.org/stable/modules/preprocessing.html\n",
      "Please also refer to the documentation for alternative solver options:\n",
      "    https://scikit-learn.org/stable/modules/linear_model.html#logistic-regression\n",
      "  n_iter_i = _check_optimize_result(\n",
      "C:\\Users\\User\\anaconda3\\lib\\site-packages\\sklearn\\linear_model\\_logistic.py:1483: UserWarning: Setting penalty='none' will ignore the C and l1_ratio parameters\n",
      "  warnings.warn(\n",
      "C:\\Users\\User\\anaconda3\\lib\\site-packages\\sklearn\\linear_model\\_logistic.py:814: ConvergenceWarning: lbfgs failed to converge (status=1):\n",
      "STOP: TOTAL NO. of ITERATIONS REACHED LIMIT.\n",
      "\n",
      "Increase the number of iterations (max_iter) or scale the data as shown in:\n",
      "    https://scikit-learn.org/stable/modules/preprocessing.html\n",
      "Please also refer to the documentation for alternative solver options:\n",
      "    https://scikit-learn.org/stable/modules/linear_model.html#logistic-regression\n",
      "  n_iter_i = _check_optimize_result(\n",
      "C:\\Users\\User\\anaconda3\\lib\\site-packages\\sklearn\\linear_model\\_logistic.py:1483: UserWarning: Setting penalty='none' will ignore the C and l1_ratio parameters\n",
      "  warnings.warn(\n",
      "C:\\Users\\User\\anaconda3\\lib\\site-packages\\sklearn\\linear_model\\_logistic.py:814: ConvergenceWarning: lbfgs failed to converge (status=1):\n",
      "STOP: TOTAL NO. of ITERATIONS REACHED LIMIT.\n",
      "\n",
      "Increase the number of iterations (max_iter) or scale the data as shown in:\n",
      "    https://scikit-learn.org/stable/modules/preprocessing.html\n",
      "Please also refer to the documentation for alternative solver options:\n",
      "    https://scikit-learn.org/stable/modules/linear_model.html#logistic-regression\n",
      "  n_iter_i = _check_optimize_result(\n",
      "C:\\Users\\User\\anaconda3\\lib\\site-packages\\sklearn\\linear_model\\_logistic.py:1483: UserWarning: Setting penalty='none' will ignore the C and l1_ratio parameters\n",
      "  warnings.warn(\n",
      "C:\\Users\\User\\anaconda3\\lib\\site-packages\\sklearn\\linear_model\\_logistic.py:814: ConvergenceWarning: lbfgs failed to converge (status=1):\n",
      "STOP: TOTAL NO. of ITERATIONS REACHED LIMIT.\n",
      "\n",
      "Increase the number of iterations (max_iter) or scale the data as shown in:\n",
      "    https://scikit-learn.org/stable/modules/preprocessing.html\n",
      "Please also refer to the documentation for alternative solver options:\n",
      "    https://scikit-learn.org/stable/modules/linear_model.html#logistic-regression\n",
      "  n_iter_i = _check_optimize_result(\n",
      "C:\\Users\\User\\anaconda3\\lib\\site-packages\\sklearn\\linear_model\\_logistic.py:814: ConvergenceWarning: lbfgs failed to converge (status=1):\n",
      "STOP: TOTAL NO. of ITERATIONS REACHED LIMIT.\n",
      "\n",
      "Increase the number of iterations (max_iter) or scale the data as shown in:\n",
      "    https://scikit-learn.org/stable/modules/preprocessing.html\n",
      "Please also refer to the documentation for alternative solver options:\n",
      "    https://scikit-learn.org/stable/modules/linear_model.html#logistic-regression\n",
      "  n_iter_i = _check_optimize_result(\n",
      "C:\\Users\\User\\anaconda3\\lib\\site-packages\\sklearn\\linear_model\\_logistic.py:814: ConvergenceWarning: lbfgs failed to converge (status=1):\n",
      "STOP: TOTAL NO. of ITERATIONS REACHED LIMIT.\n",
      "\n",
      "Increase the number of iterations (max_iter) or scale the data as shown in:\n",
      "    https://scikit-learn.org/stable/modules/preprocessing.html\n",
      "Please also refer to the documentation for alternative solver options:\n",
      "    https://scikit-learn.org/stable/modules/linear_model.html#logistic-regression\n",
      "  n_iter_i = _check_optimize_result(\n"
     ]
    },
    {
     "name": "stderr",
     "output_type": "stream",
     "text": [
      "C:\\Users\\User\\anaconda3\\lib\\site-packages\\sklearn\\linear_model\\_logistic.py:814: ConvergenceWarning: lbfgs failed to converge (status=1):\n",
      "STOP: TOTAL NO. of ITERATIONS REACHED LIMIT.\n",
      "\n",
      "Increase the number of iterations (max_iter) or scale the data as shown in:\n",
      "    https://scikit-learn.org/stable/modules/preprocessing.html\n",
      "Please also refer to the documentation for alternative solver options:\n",
      "    https://scikit-learn.org/stable/modules/linear_model.html#logistic-regression\n",
      "  n_iter_i = _check_optimize_result(\n",
      "C:\\Users\\User\\anaconda3\\lib\\site-packages\\sklearn\\linear_model\\_logistic.py:814: ConvergenceWarning: lbfgs failed to converge (status=1):\n",
      "STOP: TOTAL NO. of ITERATIONS REACHED LIMIT.\n",
      "\n",
      "Increase the number of iterations (max_iter) or scale the data as shown in:\n",
      "    https://scikit-learn.org/stable/modules/preprocessing.html\n",
      "Please also refer to the documentation for alternative solver options:\n",
      "    https://scikit-learn.org/stable/modules/linear_model.html#logistic-regression\n",
      "  n_iter_i = _check_optimize_result(\n",
      "C:\\Users\\User\\anaconda3\\lib\\site-packages\\sklearn\\linear_model\\_logistic.py:814: ConvergenceWarning: lbfgs failed to converge (status=1):\n",
      "STOP: TOTAL NO. of ITERATIONS REACHED LIMIT.\n",
      "\n",
      "Increase the number of iterations (max_iter) or scale the data as shown in:\n",
      "    https://scikit-learn.org/stable/modules/preprocessing.html\n",
      "Please also refer to the documentation for alternative solver options:\n",
      "    https://scikit-learn.org/stable/modules/linear_model.html#logistic-regression\n",
      "  n_iter_i = _check_optimize_result(\n",
      "C:\\Users\\User\\anaconda3\\lib\\site-packages\\sklearn\\model_selection\\_validation.py:372: FitFailedWarning: \n",
      "30 fits failed out of a total of 60.\n",
      "The score on these train-test partitions for these parameters will be set to nan.\n",
      "If these failures are not expected, you can try to debug them by setting error_score='raise'.\n",
      "\n",
      "Below are more details about the failures:\n",
      "--------------------------------------------------------------------------------\n",
      "15 fits failed with the following error:\n",
      "Traceback (most recent call last):\n",
      "  File \"C:\\Users\\User\\anaconda3\\lib\\site-packages\\sklearn\\model_selection\\_validation.py\", line 680, in _fit_and_score\n",
      "    estimator.fit(X_train, y_train, **fit_params)\n",
      "  File \"C:\\Users\\User\\anaconda3\\lib\\site-packages\\sklearn\\linear_model\\_logistic.py\", line 1461, in fit\n",
      "    solver = _check_solver(self.solver, self.penalty, self.dual)\n",
      "  File \"C:\\Users\\User\\anaconda3\\lib\\site-packages\\sklearn\\linear_model\\_logistic.py\", line 447, in _check_solver\n",
      "    raise ValueError(\n",
      "ValueError: Solver lbfgs supports only 'l2' or 'none' penalties, got l1 penalty.\n",
      "\n",
      "--------------------------------------------------------------------------------\n",
      "15 fits failed with the following error:\n",
      "Traceback (most recent call last):\n",
      "  File \"C:\\Users\\User\\anaconda3\\lib\\site-packages\\sklearn\\model_selection\\_validation.py\", line 680, in _fit_and_score\n",
      "    estimator.fit(X_train, y_train, **fit_params)\n",
      "  File \"C:\\Users\\User\\anaconda3\\lib\\site-packages\\sklearn\\linear_model\\_logistic.py\", line 1461, in fit\n",
      "    solver = _check_solver(self.solver, self.penalty, self.dual)\n",
      "  File \"C:\\Users\\User\\anaconda3\\lib\\site-packages\\sklearn\\linear_model\\_logistic.py\", line 447, in _check_solver\n",
      "    raise ValueError(\n",
      "ValueError: Solver lbfgs supports only 'l2' or 'none' penalties, got elasticnet penalty.\n",
      "\n",
      "  warnings.warn(some_fits_failed_message, FitFailedWarning)\n",
      "C:\\Users\\User\\anaconda3\\lib\\site-packages\\sklearn\\model_selection\\_search.py:969: UserWarning: One or more of the test scores are non-finite: [       nan 0.83351537        nan 0.97271728        nan 0.88388027\n",
      "        nan 0.97271728        nan 0.85857306        nan 0.97271728]\n",
      "  warnings.warn(\n",
      "C:\\Users\\User\\anaconda3\\lib\\site-packages\\sklearn\\linear_model\\_logistic.py:1483: UserWarning: Setting penalty='none' will ignore the C and l1_ratio parameters\n",
      "  warnings.warn(\n",
      "C:\\Users\\User\\anaconda3\\lib\\site-packages\\sklearn\\linear_model\\_logistic.py:814: ConvergenceWarning: lbfgs failed to converge (status=1):\n",
      "STOP: TOTAL NO. of ITERATIONS REACHED LIMIT.\n",
      "\n",
      "Increase the number of iterations (max_iter) or scale the data as shown in:\n",
      "    https://scikit-learn.org/stable/modules/preprocessing.html\n",
      "Please also refer to the documentation for alternative solver options:\n",
      "    https://scikit-learn.org/stable/modules/linear_model.html#logistic-regression\n",
      "  n_iter_i = _check_optimize_result(\n"
     ]
    }
   ],
   "source": [
    "feat_norm_X_train = normalize(encoded_X_train, axis=0)\n",
    "feat_norm_X_valid = normalize(encoded_X_valid, axis=0)\n",
    "\n",
    "feature_norm_best_validation_results = {\n",
    "    0: (\"Decision Tree\", {}),\n",
    "    1: (\"Random Forest\", {}),\n",
    "    2: (\"K-Nearest Neighbors\", {}),\n",
    "    3: (\"Support Vector Machine\", {}),\n",
    "    4: (\"Logistic Regression\", {})\n",
    "}\n",
    "\n",
    "feature_norm_clfs = [DecisionTreeClassifier(random_state=35), RandomForestClassifier(random_state=35), \n",
    "                     KNeighborsClassifier(), SVC(), LogisticRegression()]\n",
    "feature_norm_params = [dt_params, rf_params, knn_params, svm_params, lr_params]\n",
    "\n",
    "for i in range(len(feature_norm_clfs)):\n",
    "    grid_cv = GridSearchCV(feature_norm_clfs[i], feature_norm_params[i])\n",
    "    grid_cv.fit(feat_norm_X_train, encoded_y_train)\n",
    "    encoded_pred_labels = grid_cv.predict(feat_norm_X_valid)\n",
    "    accuracy = accuracy_score(encoded_y_valid, encoded_pred_labels)\n",
    "    balanced_accuracy = balanced_accuracy_score(encoded_y_valid, encoded_pred_labels)\n",
    "    precision = precision_score(encoded_y_valid, encoded_pred_labels, average=None)\n",
    "    recall = recall_score(encoded_y_valid, encoded_pred_labels, average=None)\n",
    "    f_1 = f1_score(encoded_y_valid, encoded_pred_labels, average=None)\n",
    "    feature_norm_best_validation_results[i][1][\"Best Params\"] = grid_cv.best_params_\n",
    "    feature_norm_best_validation_results[i][1][\"Accuracy\"] = accuracy\n",
    "    feature_norm_best_validation_results[i][1][\"Balanced Accuracy\"] = balanced_accuracy\n",
    "    feature_norm_best_validation_results[i][1][\"Precision\"] = precision\n",
    "    feature_norm_best_validation_results[i][1][\"Recall\"] = recall\n",
    "    feature_norm_best_validation_results[i][1][\"F1\"] = f_1\n",
    "    \n",
    "    confusion_matrix(encoded_y_valid, encoded_pred_labels)\n"
   ]
  },
  {
   "cell_type": "code",
   "execution_count": 34,
   "id": "6d875f19",
   "metadata": {},
   "outputs": [
    {
     "data": {
      "text/plain": [
       "{0: ('Decision Tree',\n",
       "  {'Best Params': {'criterion': 'gini',\n",
       "    'max_depth': None,\n",
       "    'min_samples_leaf': 2,\n",
       "    'min_samples_split': 2},\n",
       "   'Accuracy': 0.8658823529411764,\n",
       "   'Balanced Accuracy': 0.3919715747179142,\n",
       "   'Precision': array([0.5       , 0.86538462, 0.92      ]),\n",
       "   'Recall': array([0.02222222, 0.99722992, 0.15646259]),\n",
       "   'F1': array([0.04255319, 0.92664093, 0.26744186])}),\n",
       " 1: ('Random Forest',\n",
       "  {'Best Params': {'bootstrap': False,\n",
       "    'criterion': 'entropy',\n",
       "    'max_depth': 20,\n",
       "    'min_samples_leaf': 1,\n",
       "    'min_samples_split': 10},\n",
       "   'Accuracy': 0.8635294117647059,\n",
       "   'Balanced Accuracy': 0.37414965986394555,\n",
       "   'Precision': array([0.        , 0.86157518, 1.        ]),\n",
       "   'Recall': array([0.        , 1.        , 0.12244898]),\n",
       "   'F1': array([0.        , 0.92564103, 0.21818182])}),\n",
       " 2: ('K-Nearest Neighbors',\n",
       "  {'Best Params': {'algorithm': 'ball_tree',\n",
       "    'metric': 'manhattan',\n",
       "    'n_neighbors': 1},\n",
       "   'Accuracy': 0.11215686274509803,\n",
       "   'Balanced Accuracy': 0.4320889944158643,\n",
       "   'Precision': array([0.0389948 , 0.74117647, 0.97222222]),\n",
       "   'Recall': array([1.        , 0.05817175, 0.23809524]),\n",
       "   'F1': array([0.07506255, 0.10787671, 0.38251366])}),\n",
       " 3: ('Support Vector Machine',\n",
       "  {'Best Params': {'C': 1.0, 'kernel': 'poly'},\n",
       "   'Accuracy': 0.4776470588235294,\n",
       "   'Balanced Accuracy': 0.62647219552641,\n",
       "   'Precision': array([0.06428571, 0.98434442, 0.953125  ]),\n",
       "   'Recall': array([1.        , 0.4644506 , 0.41496599]),\n",
       "   'F1': array([0.12080537, 0.63111669, 0.57819905])}),\n",
       " 4: ('Logistic Regression',\n",
       "  {'Best Params': {'C': 0.01, 'penalty': 'none'},\n",
       "   'Accuracy': 0.8376470588235294,\n",
       "   'Balanced Accuracy': 0.7920034003136496,\n",
       "   'Precision': array([0.23280423, 0.94135189, 0.9625    ]),\n",
       "   'Recall': array([0.97777778, 0.8744229 , 0.52380952]),\n",
       "   'F1': array([0.37606838, 0.9066539 , 0.6784141 ])})}"
      ]
     },
     "execution_count": 34,
     "metadata": {},
     "output_type": "execute_result"
    }
   ],
   "source": [
    "feature_norm_best_validation_results"
   ]
  },
  {
   "cell_type": "markdown",
   "id": "93376c50",
   "metadata": {},
   "source": [
    "### Balanced best model evaluation"
   ]
  },
  {
   "cell_type": "code",
   "execution_count": 48,
   "id": "26bbf746",
   "metadata": {},
   "outputs": [
    {
     "name": "stdout",
     "output_type": "stream",
     "text": [
      "Training set score: 1.0\n",
      "Validation set score: 0.9874509803921568\n"
     ]
    }
   ],
   "source": [
    "best_model = RandomForestClassifier(bootstrap=False, criterion='entropy', min_samples_split=5, random_state=35)\n",
    "\n",
    "best_model.fit(encoded_X_train, encoded_y_train)\n",
    "print(f\"Training set score: {best_model.score(encoded_X_train, encoded_y_train)}\")\n",
    "print(f\"Validation set score: {best_model.score(encoded_X_valid, encoded_y_valid)}\")\n",
    "# pred_valid_labels = le.inverse_transform(encoded_pred_valid_labels)\n",
    "# pred_df[\"predicted_target\"] = encoded_pred_labels\n",
    "# pred_df.to_csv(\"predictedTarget.csv\", index=False)"
   ]
  },
  {
   "cell_type": "markdown",
   "id": "b92859c3",
   "metadata": {},
   "source": [
    "### Imbalanced best model evaluation"
   ]
  },
  {
   "cell_type": "code",
   "execution_count": 36,
   "id": "f2f2d539",
   "metadata": {},
   "outputs": [
    {
     "name": "stdout",
     "output_type": "stream",
     "text": [
      "Training set score: 0.9993409779886648\n",
      "Validation set score: 0.9858823529411764\n"
     ]
    }
   ],
   "source": [
    "imbalanced_best_model = DecisionTreeClassifier(min_samples_split=5)\n",
    "imbalanced_best_model_pipeline = Pipeline(\n",
    "    [\n",
    "        (\"transformer\", StandardScaler()), \n",
    "        (\"clf\", imbalanced_best_model)\n",
    "    ]\n",
    ")\n",
    "imbalanced_best_model_pipeline.fit(encoded_X_train, encoded_y_train)\n",
    "\n",
    "imbalanced_best_model_pipeline.fit(encoded_X_train, encoded_y_train)\n",
    "print(f\"Training set score: {imbalanced_best_model_pipeline.score(encoded_X_train, encoded_y_train)}\")\n",
    "print(f\"Validation set score: {imbalanced_best_model_pipeline.score(encoded_X_valid, encoded_y_valid)}\")\n",
    "\n",
    "# pred_df[\"predicted_target\"] = encoded_pred_labels\n",
    "# pred_df.to_csv(\"predicted.csv\", index=False)"
   ]
  },
  {
   "cell_type": "markdown",
   "id": "a2bf20aa",
   "metadata": {},
   "source": [
    "### Postprocessing Using SHAP \n",
    "To see which features were mainly used for the model, the SHAP library is used."
   ]
  },
  {
   "cell_type": "code",
   "execution_count": 55,
   "id": "8fe70d32",
   "metadata": {},
   "outputs": [
    {
     "name": "stdout",
     "output_type": "stream",
     "text": [
      "low_risk (18, 3)\n",
      "moderate_risk (18, 3)\n",
      "high_risk (18, 3)\n"
     ]
    }
   ],
   "source": [
    "explainer = shap.TreeExplainer(best_model)\n",
    "shap_values = explainer.shap_values(encoded_test_data)\n",
    "\n",
    "\n",
    "low_risk = 0\n",
    "moderate_risk = 1\n",
    "high_risk = 2\n",
    "\n",
    "shap_values_l = shap.Explanation(values=shap_values[low_risk], \n",
    "                                 data=encoded_test_data, feature_names=encoded_test_data.columns)\n",
    "print('low_risk', np.shape(shap_values_l))\n",
    "\n",
    "shap_values_m = shap.Explanation(values=shap_values[moderate_risk], \n",
    "                                 data=encoded_test_data, feature_names=encoded_test_data.columns)\n",
    "print('moderate_risk', np.shape(shap_values_m))\n",
    "\n",
    "shap_values_h = shap.Explanation(values=shap_values[high_risk], \n",
    "                                 data=encoded_test_data, feature_names=encoded_test_data.columns)\n",
    "print('high_risk', np.shape(shap_values_l))"
   ]
  },
  {
   "cell_type": "markdown",
   "id": "a83c3816",
   "metadata": {},
   "source": [
    "### Prediction on Test Data with Best Model"
   ]
  },
  {
   "cell_type": "code",
   "execution_count": 37,
   "id": "72658c60",
   "metadata": {},
   "outputs": [],
   "source": [
    "encoded_pred_test_labels = best_model_pipeline.predict(encoded_test_data)\n",
    "\n",
    "pred_test_labels = le.inverse_transform(encoded_pred_test_labels)\n",
    "pred_df[\"predicted_target\"] = pred_test_labels\n",
    "pred_df.to_csv(\"predictedTarget.csv\", index=False)"
   ]
  },
  {
   "cell_type": "markdown",
   "id": "7068e623",
   "metadata": {},
   "source": [
    "## Unsupervised Learning using Clustering Algorithms"
   ]
  },
  {
   "cell_type": "markdown",
   "id": "0c7fbde0",
   "metadata": {},
   "source": [
    "### KMeans"
   ]
  },
  {
   "cell_type": "code",
   "execution_count": 44,
   "id": "c73bd94c",
   "metadata": {},
   "outputs": [
    {
     "name": "stdout",
     "output_type": "stream",
     "text": [
      "       test_X1   test_X2   test_X3   test_X4   test_X5\n",
      "0     0.587787  1.280934  4.736198  0.647103  4.820282\n",
      "1     0.412110  1.064711  4.779123  0.765468  4.644391\n",
      "2     0.693147  1.163151  4.564348  0.672944  4.615121\n",
      "3     1.335001  1.064711  4.820282  0.770108  4.672829\n",
      "4     0.190620  1.568616  5.129899  0.683097  5.147494\n",
      "...        ...       ...       ...       ...       ...\n",
      "7582  2.161007  1.189368  4.405804  0.691332  4.412497\n",
      "7583  6.249593  1.090116  2.989870  0.772736  2.770835\n",
      "7584  2.023128  1.045812  4.591457  0.621499  4.755229\n",
      "7585  2.311563  1.165104  4.505153  0.672944  4.682131\n",
      "7586  2.787246  1.077793  4.475889  0.647103  4.564348\n",
      "\n",
      "[7587 rows x 5 columns]\n"
     ]
    }
   ],
   "source": [
    "numerical_X_train = encoded_X_train[numerical_features]\n",
    "\n",
    "numerical_X_train = np.log1p(numerical_X_train)\n",
    "\n",
    "print(numerical_X_train)"
   ]
  },
  {
   "cell_type": "code",
   "execution_count": 45,
   "id": "8cb26ed9",
   "metadata": {},
   "outputs": [
    {
     "data": {
      "image/png": "[encoded data removed]",
      "text/plain": [
       "<Figure size 432x288 with 1 Axes>"
      ]
     },
     "metadata": {
      "needs_background": "light"
     },
     "output_type": "display_data"
    }
   ],
   "source": [
    "kmeans_models = [KMeans(n_clusters=k).fit(numerical_X_train) for k in range (2, 10)]\n",
    "innertia = [model.inertia_ for model in kmeans_models]\n",
    "plt.xticks([k for k in range (2, 10)])\n",
    "plt.plot(range(2, 10), innertia)\n",
    "plt.title('Elbow method')\n",
    "plt.xlabel('Number of Clusters')\n",
    "plt.ylabel('WCSS')\n",
    "plt.show()"
   ]
  },
  {
   "cell_type": "code",
   "execution_count": 46,
   "id": "cab9725e",
   "metadata": {},
   "outputs": [
    {
     "data": {
      "image/png": "[encoded data removed]",
      "text/plain": [
       "<Figure size 432x288 with 1 Axes>"
      ]
     },
     "metadata": {
      "needs_background": "light"
     },
     "output_type": "display_data"
    }
   ],
   "source": [
    "silhoutte_scores = [silhouette_score(numerical_X_train, model.labels_) for model in kmeans_models]\n",
    "plt.plot([k for k in range (2, 10)], silhoutte_scores, \"bo-\")\n",
    "plt.xticks([k for k in range (2, 10)])\n",
    "plt.title('Silhouette scores vs Number of clusters')\n",
    "plt.xlabel('Number of clusters')\n",
    "plt.ylabel('Silhoutte score')\n",
    "plt.show()"
   ]
  },
  {
   "cell_type": "code",
   "execution_count": 41,
   "id": "5c193ba8",
   "metadata": {},
   "outputs": [
    {
     "name": "stdout",
     "output_type": "stream",
     "text": [
      "Silhoutte score of KMeans with 3 clusters is 0.5875227807127739\n"
     ]
    }
   ],
   "source": [
    "kmeans = KMeans(n_clusters=3)\n",
    "kmeans.fit(numerical_X_train)\n",
    "\n",
    "print('Silhoutte score of KMeans with 3 clusters is ' + str(silhouette_score(encoded_X_train, kmeans.labels_)))"
   ]
  },
  {
   "cell_type": "code",
   "execution_count": null,
   "id": "4a183071",
   "metadata": {},
   "outputs": [],
   "source": []
  }
 ],
 "metadata": {
  "kernelspec": {
   "display_name": "Python 3 (ipykernel)",
   "language": "python",
   "name": "python3"
  },
  "language_info": {
   "codemirror_mode": {
    "name": "ipython",
    "version": 3
   },
   "file_extension": ".py",
   "mimetype": "text/x-python",
   "name": "python",
   "nbconvert_exporter": "python",
   "pygments_lexer": "ipython3",
   "version": "3.9.12"
  }
 },
 "nbformat": 4,
 "nbformat_minor": 5
}
